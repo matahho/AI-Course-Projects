{
 "cells": [
  {
   "cell_type": "markdown",
   "metadata": {},
   "source": [
    "<h1 style=\"color:#00337C;\">SeyedMahdi HajiSeyedHossein - 810100118</h1>"
   ]
  },
  {
   "cell_type": "markdown",
   "metadata": {},
   "source": [
    "<h1 style=\"color:#00337C;\">Portfolio optimization using Genetic Algorithm</h1>\n",
    "<h3 style=\"color:#1C82AD;\">Project Goal : Return an efficient way to manage our Portfolio to have the best return and minimum risk </h3>"
   ]
  },
  {
   "cell_type": "markdown",
   "metadata": {},
   "source": [
    "<pre style=\"color:#03C988;\">This optimization was based on Gentic algorithm (GA) . Inspiration of GA was based on human Gene and its Chromosome <br>\n",
    "Let’s say we have selected N financial assets we want to invest in. They can be stock, funds, bonds, ETF etc. Each one of them has many historical returns, that is the price relative difference from one period to another. Periods can be days, weeks, months and so on. Build an investment portfolio with a mix of many assets (They can be stock, funds, bonds, ETF) together allocating a fraction x of total capital to each one of them. Each fraction is called weight. The goal of portfolio optimization is to find the values of the weights that Maximize returns and minimize risk simultaneously of our portfolio under some constraints.</pre>"
   ]
  },
  {
   "cell_type": "code",
   "execution_count": 1257,
   "metadata": {},
   "outputs": [],
   "source": [
    "import pandas as pd\n",
    "import numpy as np \n",
    "import matplotlib.pyplot as plt\n",
    "import random"
   ]
  },
  {
   "cell_type": "code",
   "execution_count": null,
   "metadata": {},
   "outputs": [],
   "source": []
  },
  {
   "cell_type": "markdown",
   "metadata": {},
   "source": [
    "<h3 style=\"color:#1C82AD;\">Part #1 :</h3>"
   ]
  },
  {
   "cell_type": "markdown",
   "metadata": {},
   "source": [
    "<pre style=\"color:#03C988;\">Definition of Gene: A fraction of the total capital assigned to a stock. we can name it as WEIGTH</pre>"
   ]
  },
  {
   "cell_type": "code",
   "execution_count": 1258,
   "metadata": {},
   "outputs": [],
   "source": [
    "gene = np.random.rand()"
   ]
  },
  {
   "cell_type": "code",
   "execution_count": 1259,
   "metadata": {},
   "outputs": [
    {
     "data": {
      "text/plain": [
       "0.8937417814405998"
      ]
     },
     "execution_count": 1259,
     "metadata": {},
     "output_type": "execute_result"
    }
   ],
   "source": [
    "gene"
   ]
  },
  {
   "cell_type": "markdown",
   "metadata": {},
   "source": [
    "<pre style=\"color:#03C988;\">Definition of Chromosome (1D Array): Set of genes fractions of total capital assigned to each stock</pre>"
   ]
  },
  {
   "cell_type": "markdown",
   "metadata": {},
   "source": [
    "<pre style=\"color:#03C988;\">Sum of a chromosome must be 1 . how to do this :<br>\n",
    "generate all random number and then calculate --sum of all genes in a choromosome-- and then divide it by this factor</pre>"
   ]
  },
  {
   "cell_type": "code",
   "execution_count": null,
   "metadata": {},
   "outputs": [],
   "source": []
  },
  {
   "cell_type": "code",
   "execution_count": 1260,
   "metadata": {},
   "outputs": [],
   "source": [
    "class choromosome :\n",
    "    def __init__ (self , numOfGenes = 400):\n",
    "        if isinstance(numOfGenes , np.ndarray):\n",
    "            self.genes = numOfGenes \n",
    "            self.genes = self.genes / self.genes.sum()\n",
    "            \n",
    "        if isinstance(numOfGenes , int):\n",
    "            self.genes = np.random.rand(numOfGenes)\n",
    "            self.genes = self.genes / self.genes.sum()\n",
    "            \n",
    "            \n",
    "    def mutation(self):\n",
    "        prob = 0.1 \n",
    "        for i in range(numberOfStocks):\n",
    "            chance = random.random()\n",
    "            if chance < prob :\n",
    "                new_value = random.random()\n",
    "                self.genes[i] = new_value\n",
    "                \n",
    "        self.genes = self.genes / self.genes.sum()\n",
    "            \n",
    "            \n",
    "            \n",
    "    def returnValue (self , df):\n",
    "        return (sum(self.genes * df['return']))\n",
    "    def riskValue (self , df):\n",
    "        return (sum(self.genes * df['risk']))"
   ]
  },
  {
   "cell_type": "code",
   "execution_count": 1261,
   "metadata": {},
   "outputs": [],
   "source": [
    "c = choromosome(50)"
   ]
  },
  {
   "cell_type": "code",
   "execution_count": 1262,
   "metadata": {},
   "outputs": [
    {
     "data": {
      "text/plain": [
       "array([0.03075926, 0.0247469 , 0.00212304, 0.0364414 , 0.02582038,\n",
       "       0.01969058, 0.03414237, 0.03288156, 0.0294433 , 0.03546484,\n",
       "       0.02732815, 0.02883195, 0.00651184, 0.03696165, 0.03694265,\n",
       "       0.02107927, 0.02403564, 0.03187676, 0.00030521, 0.02667369,\n",
       "       0.01104157, 0.01217168, 0.01633029, 0.00484785, 0.01044904,\n",
       "       0.01496744, 0.00909048, 0.00491511, 0.02702998, 0.01327191,\n",
       "       0.01821683, 0.03760721, 0.03293568, 0.03086102, 0.00838169,\n",
       "       0.00265038, 0.03191489, 0.01063442, 0.0053089 , 0.01253567,\n",
       "       0.02645   , 0.01467481, 0.01940547, 0.01677629, 0.00107536,\n",
       "       0.00941635, 0.02456618, 0.00724922, 0.01960971, 0.03355411])"
      ]
     },
     "execution_count": 1262,
     "metadata": {},
     "output_type": "execute_result"
    }
   ],
   "source": [
    "c.genes"
   ]
  },
  {
   "cell_type": "code",
   "execution_count": 1263,
   "metadata": {},
   "outputs": [
    {
     "data": {
      "text/plain": [
       "1.0000000000000002"
      ]
     },
     "execution_count": 1263,
     "metadata": {},
     "output_type": "execute_result"
    }
   ],
   "source": [
    "sum(c.genes)"
   ]
  },
  {
   "cell_type": "markdown",
   "metadata": {},
   "source": [
    "<h3 style=\"color:#1C82AD;\">Loading DF :</h3>"
   ]
  },
  {
   "cell_type": "markdown",
   "metadata": {},
   "source": [
    "<pre style=\"color:#03C988;\">This DF is based on 2020 til 2022 real stocks and financial budget and their return and risk </pre>"
   ]
  },
  {
   "cell_type": "code",
   "execution_count": 1264,
   "metadata": {},
   "outputs": [],
   "source": [
    "df = pd.read_csv('/Users/Mahdi/Desktop/AI/CA/2/Genetic[Test]/sample.csv')"
   ]
  },
  {
   "cell_type": "code",
   "execution_count": 1265,
   "metadata": {},
   "outputs": [],
   "source": [
    "numberOfStocks = len(df)"
   ]
  },
  {
   "cell_type": "code",
   "execution_count": 1266,
   "metadata": {},
   "outputs": [
    {
     "data": {
      "text/plain": [
       "400"
      ]
     },
     "execution_count": 1266,
     "metadata": {},
     "output_type": "execute_result"
    }
   ],
   "source": [
    "numberOfStocks"
   ]
  },
  {
   "cell_type": "markdown",
   "metadata": {},
   "source": [
    "<h3 style=\"color:#1C82AD;\">Part #2 :</h3>"
   ]
  },
  {
   "cell_type": "markdown",
   "metadata": {},
   "source": [
    "<pre style=\"color:#03C988;\">Generate Initial Population (2D Array): A set of randomly generated chromosomes</pre>"
   ]
  },
  {
   "cell_type": "code",
   "execution_count": 1267,
   "metadata": {},
   "outputs": [],
   "source": [
    "initialPopulationSize = 100"
   ]
  },
  {
   "cell_type": "code",
   "execution_count": 1268,
   "metadata": {},
   "outputs": [],
   "source": [
    "population = []\n",
    "population.append( np.array([choromosome() for i in range(initialPopulationSize)]) )"
   ]
  },
  {
   "cell_type": "code",
   "execution_count": null,
   "metadata": {},
   "outputs": [],
   "source": []
  },
  {
   "cell_type": "code",
   "execution_count": 1269,
   "metadata": {},
   "outputs": [],
   "source": [
    "def is_goal(ch):\n",
    "    \n",
    "    total_return = ch.returnValue(df)\n",
    "    total_risk = ch.riskValue(df)\n",
    "\n",
    "    if total_risk <= 60/100:\n",
    "        if total_return >= 1000/100:\n",
    "            print(\"WE FOUND THE ANSWER\")\n",
    "            print(\"Total Return: \", total_return)\n",
    "            print(\"Total Risk: \", total_risk)\n",
    "            print(\"Portfolio is: \" , ch.genes)\n",
    "            return True\n",
    "    return False "
   ]
  },
  {
   "cell_type": "markdown",
   "metadata": {},
   "source": [
    "<h3 style=\"color:#1C82AD;\">Part #3 :</h3>"
   ]
  },
  {
   "cell_type": "markdown",
   "metadata": {},
   "source": [
    "<pre style=\"color:#03C988;\">For the fitness function I consider this :</pre>"
   ]
  },
  {
   "cell_type": "markdown",
   "metadata": {},
   "source": [
    "<pre style=\"color:#03C988;\">                   Summation of W(i) * Return(i) - W(i) * Risk(i)</pre>"
   ]
  },
  {
   "cell_type": "code",
   "execution_count": 1270,
   "metadata": {},
   "outputs": [],
   "source": [
    "def fitnessFunction (ch):\n",
    "    fitnessValue =  (7 * ch.returnValue(df)) / (1 * ch.riskValue(df))\n",
    "    return fitnessValue"
   ]
  },
  {
   "cell_type": "code",
   "execution_count": 1271,
   "metadata": {},
   "outputs": [],
   "source": [
    "testChoromosome = choromosome()\n"
   ]
  },
  {
   "cell_type": "code",
   "execution_count": 1272,
   "metadata": {},
   "outputs": [
    {
     "data": {
      "text/plain": [
       "11.319001965427882"
      ]
     },
     "execution_count": 1272,
     "metadata": {},
     "output_type": "execute_result"
    }
   ],
   "source": [
    "fitnessFunction(testChoromosome )"
   ]
  },
  {
   "cell_type": "code",
   "execution_count": null,
   "metadata": {},
   "outputs": [],
   "source": []
  },
  {
   "cell_type": "code",
   "execution_count": null,
   "metadata": {},
   "outputs": [],
   "source": []
  },
  {
   "cell_type": "code",
   "execution_count": 1273,
   "metadata": {},
   "outputs": [],
   "source": [
    "fitnessValueOfaPopulation = np.vectorize(fitnessFunction)"
   ]
  },
  {
   "cell_type": "code",
   "execution_count": 1274,
   "metadata": {},
   "outputs": [
    {
     "data": {
      "text/plain": [
       "array([10.67231195, 11.92920333, 11.99584972, 11.70292352, 10.15134987,\n",
       "       11.44702518, 12.67684019, 11.26873912, 11.92055074, 11.7815961 ,\n",
       "       12.04850486, 10.93429422, 10.99736532, 11.92472725, 12.62377837,\n",
       "       11.45018904, 10.57414576, 11.18426246, 11.44557824, 11.68632142,\n",
       "       11.76125381, 10.40262835, 12.03056229, 11.58730793, 11.5352087 ,\n",
       "       11.90918648, 11.75657109, 10.84277448, 12.38410398, 11.79078438,\n",
       "       11.2748416 , 10.58466521, 10.72619665, 11.74245412, 11.46564839,\n",
       "       11.93592457, 11.72412429, 11.09565157, 11.74120686, 10.82166418,\n",
       "       11.02382255, 11.46984413, 11.99840214, 11.26473771, 11.41300666,\n",
       "       11.56169977, 11.51681193, 11.14124539, 10.61440585, 10.84035754,\n",
       "       11.44975131, 11.96829108, 11.20735217, 11.2210274 , 11.78174027,\n",
       "       12.18348106, 11.52965731, 10.89746082, 12.77257251, 12.87465561,\n",
       "       11.48403591, 10.98697064, 11.64994337, 11.29477582, 12.52349661,\n",
       "       11.31690391, 12.60148824, 10.87702781, 12.04513686, 11.18151609,\n",
       "       12.02383707, 10.94177674, 12.33605571, 12.08458339, 10.57296994,\n",
       "       10.856307  , 11.35668146, 10.92877921, 10.49968092, 11.47470708,\n",
       "       10.92388817, 12.21707273, 11.69320025, 11.61734822, 10.73441663,\n",
       "       12.74384807, 11.41438106, 11.62835524, 10.69863553, 11.71686223,\n",
       "       11.78641231, 12.82867588, 11.09476935, 10.84952647, 10.63787187,\n",
       "       11.73770137, 10.89067786, 11.56031726, 11.64457051, 12.67681179])"
      ]
     },
     "execution_count": 1274,
     "metadata": {},
     "output_type": "execute_result"
    }
   ],
   "source": [
    "fitnessValueOfaPopulation(population[0])"
   ]
  },
  {
   "cell_type": "code",
   "execution_count": null,
   "metadata": {},
   "outputs": [],
   "source": []
  },
  {
   "cell_type": "markdown",
   "metadata": {},
   "source": [
    "<h3 style=\"color:#1C82AD;\">Rank all choromosome for Rank Selection  :</h3>"
   ]
  },
  {
   "cell_type": "markdown",
   "metadata": {},
   "source": [
    "<pre style=\"color:#03C988;\">In Wheel selection we give each choromosome a chance to be selected by its fitness fuction <br>\n",
    "but in Rank base selection we assign a chance to each choromosome by its rank :<br>\n",
    " In general, if the fitness values are highly variable or if the population is prone to premature convergence, rank-based selection may be a better choice. However, if the fitness values are relatively homogeneous and the population is diverse, roulette wheel selection may be more appropriate.</pre>"
   ]
  },
  {
   "cell_type": "code",
   "execution_count": null,
   "metadata": {},
   "outputs": [],
   "source": []
  },
  {
   "cell_type": "code",
   "execution_count": 1275,
   "metadata": {},
   "outputs": [],
   "source": [
    "def rankingPopulatoin (population):\n",
    "    return sorted(population, key=lambda x: fitnessFunction(x), reverse=True)\n",
    "    "
   ]
  },
  {
   "cell_type": "code",
   "execution_count": 1276,
   "metadata": {},
   "outputs": [
    {
     "data": {
      "text/plain": [
       "[<__main__.choromosome at 0x125e610d0>,\n",
       " <__main__.choromosome at 0x125e61cd0>,\n",
       " <__main__.choromosome at 0x125e61070>,\n",
       " <__main__.choromosome at 0x125e61a90>,\n",
       " <__main__.choromosome at 0x125de61c0>,\n",
       " <__main__.choromosome at 0x125e61fd0>,\n",
       " <__main__.choromosome at 0x125de6430>,\n",
       " <__main__.choromosome at 0x125e61370>,\n",
       " <__main__.choromosome at 0x125e612b0>,\n",
       " <__main__.choromosome at 0x125de6970>,\n",
       " <__main__.choromosome at 0x125e615b0>,\n",
       " <__main__.choromosome at 0x125e61910>,\n",
       " <__main__.choromosome at 0x125dc98e0>,\n",
       " <__main__.choromosome at 0x125e61610>,\n",
       " <__main__.choromosome at 0x125de6400>,\n",
       " <__main__.choromosome at 0x125e61430>,\n",
       " <__main__.choromosome at 0x125de6f70>,\n",
       " <__main__.choromosome at 0x125e614f0>,\n",
       " <__main__.choromosome at 0x125dc9af0>,\n",
       " <__main__.choromosome at 0x125de65e0>,\n",
       " <__main__.choromosome at 0x125dc97f0>,\n",
       " <__main__.choromosome at 0x125dc9760>,\n",
       " <__main__.choromosome at 0x125de6b20>,\n",
       " <__main__.choromosome at 0x125de6160>,\n",
       " <__main__.choromosome at 0x125de6550>,\n",
       " <__main__.choromosome at 0x125de6c40>,\n",
       " <__main__.choromosome at 0x125de67c0>,\n",
       " <__main__.choromosome at 0x125e61c70>,\n",
       " <__main__.choromosome at 0x125dc98b0>,\n",
       " <__main__.choromosome at 0x125de6070>,\n",
       " <__main__.choromosome at 0x125de6d30>,\n",
       " <__main__.choromosome at 0x125de68b0>,\n",
       " <__main__.choromosome at 0x125dc9fa0>,\n",
       " <__main__.choromosome at 0x125ddd910>,\n",
       " <__main__.choromosome at 0x125e61e50>,\n",
       " <__main__.choromosome at 0x125dc97c0>,\n",
       " <__main__.choromosome at 0x125e61c10>,\n",
       " <__main__.choromosome at 0x125de6340>,\n",
       " <__main__.choromosome at 0x125e61970>,\n",
       " <__main__.choromosome at 0x125de6cd0>,\n",
       " <__main__.choromosome at 0x125e611f0>,\n",
       " <__main__.choromosome at 0x125e61f70>,\n",
       " <__main__.choromosome at 0x125e61b50>,\n",
       " <__main__.choromosome at 0x125e619d0>,\n",
       " <__main__.choromosome at 0x125de6bb0>,\n",
       " <__main__.choromosome at 0x125dc9ca0>,\n",
       " <__main__.choromosome at 0x125e61f10>,\n",
       " <__main__.choromosome at 0x125de6ee0>,\n",
       " <__main__.choromosome at 0x125dc9160>,\n",
       " <__main__.choromosome at 0x125dc9c40>,\n",
       " <__main__.choromosome at 0x125e61130>,\n",
       " <__main__.choromosome at 0x125e61850>,\n",
       " <__main__.choromosome at 0x125dc91f0>,\n",
       " <__main__.choromosome at 0x125dc9ee0>,\n",
       " <__main__.choromosome at 0x125de6370>,\n",
       " <__main__.choromosome at 0x125dc99d0>,\n",
       " <__main__.choromosome at 0x125de6880>,\n",
       " <__main__.choromosome at 0x125de6d60>,\n",
       " <__main__.choromosome at 0x125e61af0>,\n",
       " <__main__.choromosome at 0x125dc9610>,\n",
       " <__main__.choromosome at 0x125e61730>,\n",
       " <__main__.choromosome at 0x125e61310>,\n",
       " <__main__.choromosome at 0x125e61250>,\n",
       " <__main__.choromosome at 0x125dc9a90>,\n",
       " <__main__.choromosome at 0x125de6490>,\n",
       " <__main__.choromosome at 0x125dc9df0>,\n",
       " <__main__.choromosome at 0x125dc9820>,\n",
       " <__main__.choromosome at 0x125dc9d00>,\n",
       " <__main__.choromosome at 0x125de6be0>,\n",
       " <__main__.choromosome at 0x125e61490>,\n",
       " <__main__.choromosome at 0x125dc9550>,\n",
       " <__main__.choromosome at 0x125ddd820>,\n",
       " <__main__.choromosome at 0x125e61d30>,\n",
       " <__main__.choromosome at 0x125ddd520>,\n",
       " <__main__.choromosome at 0x125de64f0>,\n",
       " <__main__.choromosome at 0x125e61190>,\n",
       " <__main__.choromosome at 0x125e61550>,\n",
       " <__main__.choromosome at 0x125de6a30>,\n",
       " <__main__.choromosome at 0x125e61790>,\n",
       " <__main__.choromosome at 0x125e618b0>,\n",
       " <__main__.choromosome at 0x125dc9520>,\n",
       " <__main__.choromosome at 0x125e61eb0>,\n",
       " <__main__.choromosome at 0x125e613d0>,\n",
       " <__main__.choromosome at 0x125e616d0>,\n",
       " <__main__.choromosome at 0x125e61d90>,\n",
       " <__main__.choromosome at 0x125de6940>,\n",
       " <__main__.choromosome at 0x125dc9eb0>,\n",
       " <__main__.choromosome at 0x125ddd6a0>,\n",
       " <__main__.choromosome at 0x125e61a30>,\n",
       " <__main__.choromosome at 0x125dc9940>,\n",
       " <__main__.choromosome at 0x125e61bb0>,\n",
       " <__main__.choromosome at 0x125de6e50>,\n",
       " <__main__.choromosome at 0x125e61df0>,\n",
       " <__main__.choromosome at 0x125dc9970>,\n",
       " <__main__.choromosome at 0x125dc91c0>,\n",
       " <__main__.choromosome at 0x125de6460>,\n",
       " <__main__.choromosome at 0x125e61670>,\n",
       " <__main__.choromosome at 0x125e617f0>,\n",
       " <__main__.choromosome at 0x125de6d90>,\n",
       " <__main__.choromosome at 0x125de6130>]"
      ]
     },
     "execution_count": 1276,
     "metadata": {},
     "output_type": "execute_result"
    }
   ],
   "source": [
    "rankingPopulatoin(population[0])"
   ]
  },
  {
   "cell_type": "code",
   "execution_count": 1277,
   "metadata": {},
   "outputs": [
    {
     "data": {
      "text/plain": [
       "array([12.87465561, 12.82867588, 12.77257251, 12.74384807, 12.67684019,\n",
       "       12.67681179, 12.62377837, 12.60148824, 12.52349661, 12.38410398,\n",
       "       12.33605571, 12.21707273, 12.18348106, 12.08458339, 12.04850486,\n",
       "       12.04513686, 12.03056229, 12.02383707, 11.99840214, 11.99584972,\n",
       "       11.96829108, 11.93592457, 11.92920333, 11.92472725, 11.92055074,\n",
       "       11.90918648, 11.79078438, 11.78641231, 11.78174027, 11.7815961 ,\n",
       "       11.76125381, 11.75657109, 11.74245412, 11.74120686, 11.73770137,\n",
       "       11.72412429, 11.71686223, 11.70292352, 11.69320025, 11.68632142,\n",
       "       11.64994337, 11.64457051, 11.62835524, 11.61734822, 11.58730793,\n",
       "       11.56169977, 11.56031726, 11.5352087 , 11.52965731, 11.51681193,\n",
       "       11.48403591, 11.47470708, 11.46984413, 11.46564839, 11.45018904,\n",
       "       11.44975131, 11.44702518, 11.44557824, 11.41438106, 11.41300666,\n",
       "       11.35668146, 11.31690391, 11.29477582, 11.2748416 , 11.26873912,\n",
       "       11.26473771, 11.2210274 , 11.20735217, 11.18426246, 11.18151609,\n",
       "       11.14124539, 11.09565157, 11.09476935, 11.02382255, 10.99736532,\n",
       "       10.98697064, 10.94177674, 10.93429422, 10.92877921, 10.92388817,\n",
       "       10.89746082, 10.89067786, 10.87702781, 10.856307  , 10.84952647,\n",
       "       10.84277448, 10.84035754, 10.82166418, 10.73441663, 10.72619665,\n",
       "       10.69863553, 10.67231195, 10.63787187, 10.61440585, 10.58466521,\n",
       "       10.57414576, 10.57296994, 10.49968092, 10.40262835, 10.15134987])"
      ]
     },
     "execution_count": 1277,
     "metadata": {},
     "output_type": "execute_result"
    }
   ],
   "source": [
    "fitnessValueOfaPopulation(rankingPopulatoin(population[0]))"
   ]
  },
  {
   "cell_type": "code",
   "execution_count": null,
   "metadata": {},
   "outputs": [],
   "source": []
  },
  {
   "cell_type": "code",
   "execution_count": 1278,
   "metadata": {},
   "outputs": [],
   "source": [
    "def elitePopulation(generation):\n",
    "    ten_percent = int(initialPopulationSize* 0.1)\n",
    "\n",
    "    return generation[:ten_percent]\n"
   ]
  },
  {
   "cell_type": "code",
   "execution_count": 1279,
   "metadata": {},
   "outputs": [
    {
     "data": {
      "text/plain": [
       "array([10.67231195, 11.92920333, 11.99584972, 11.70292352, 10.15134987,\n",
       "       11.44702518, 12.67684019, 11.26873912, 11.92055074, 11.7815961 ])"
      ]
     },
     "execution_count": 1279,
     "metadata": {},
     "output_type": "execute_result"
    }
   ],
   "source": [
    "fitnessValueOfaPopulation(elitePopulation(population[0]))"
   ]
  },
  {
   "cell_type": "markdown",
   "metadata": {},
   "source": [
    "<h3 style=\"color:#1C82AD;\">Assign a probility to each choromosome based of their RANK : </h3>"
   ]
  },
  {
   "cell_type": "markdown",
   "metadata": {},
   "source": [
    "<pre style=\"color:#03C988;\">For each choromosome we assign a chance to it based on its rank like : <br>\n",
    "    ranked(i) chance calculate like 1/(i+1)</pre>"
   ]
  },
  {
   "cell_type": "code",
   "execution_count": null,
   "metadata": {},
   "outputs": [],
   "source": []
  },
  {
   "cell_type": "code",
   "execution_count": null,
   "metadata": {},
   "outputs": [],
   "source": []
  },
  {
   "cell_type": "code",
   "execution_count": 1280,
   "metadata": {},
   "outputs": [],
   "source": [
    "def assignCrossoverChance (population):\n",
    "    crossoverChance = np.array([1/(i+2) for i in range(len(population))])\n",
    "    crossoverChance = crossoverChance/sum(crossoverChance)\n",
    "    return crossoverChance"
   ]
  },
  {
   "cell_type": "code",
   "execution_count": 1281,
   "metadata": {},
   "outputs": [
    {
     "data": {
      "text/plain": [
       "array([0.11912481, 0.07941654, 0.0595624 , 0.04764992, 0.03970827,\n",
       "       0.03403566, 0.0297812 , 0.02647218, 0.02382496, 0.02165906,\n",
       "       0.01985413, 0.01832689, 0.01701783, 0.01588331, 0.0148906 ,\n",
       "       0.01401468, 0.01323609, 0.01253945, 0.01191248, 0.01134522,\n",
       "       0.01082953, 0.01035868, 0.00992707, 0.00952998, 0.00916345,\n",
       "       0.00882406, 0.00850891, 0.0082155 , 0.00794165, 0.00768547,\n",
       "       0.0074453 , 0.00721969, 0.00700734, 0.00680713, 0.00661804,\n",
       "       0.00643918, 0.00626973, 0.00610896, 0.00595624, 0.00581097,\n",
       "       0.00567261, 0.00554069, 0.00541476, 0.00529444, 0.00517934,\n",
       "       0.00506914, 0.00496353, 0.00486224, 0.00476499, 0.00467156,\n",
       "       0.00458172, 0.00449528, 0.00441203, 0.00433181, 0.00425446,\n",
       "       0.00417982, 0.00410775, 0.00403813, 0.00397083, 0.00390573,\n",
       "       0.00384274, 0.00378174, 0.00372265, 0.00366538, 0.00360984,\n",
       "       0.00355596, 0.00350367, 0.00345289, 0.00340357, 0.00335563,\n",
       "       0.00330902, 0.00326369, 0.00321959, 0.00317666, 0.00313486,\n",
       "       0.00309415, 0.00305448, 0.00301582, 0.00297812, 0.00294135,\n",
       "       0.00290548, 0.00287048, 0.0028363 , 0.00280294, 0.00277034,\n",
       "       0.0027385 , 0.00270738, 0.00267696, 0.00264722, 0.00261813,\n",
       "       0.00258967, 0.00256182, 0.00253457, 0.00250789, 0.00248177,\n",
       "       0.00245618, 0.00243112, 0.00240656, 0.0023825 , 0.00235891])"
      ]
     },
     "execution_count": 1281,
     "metadata": {},
     "output_type": "execute_result"
    }
   ],
   "source": [
    "assignCrossoverChance(population[0])"
   ]
  },
  {
   "cell_type": "code",
   "execution_count": 1282,
   "metadata": {},
   "outputs": [
    {
     "data": {
      "image/png": "[encoded data removed]",
      "text/plain": [
       "<Figure size 640x480 with 1 Axes>"
      ]
     },
     "metadata": {},
     "output_type": "display_data"
    }
   ],
   "source": [
    "plt.pie(assignCrossoverChance(population[0]))\n",
    "plt.show()"
   ]
  },
  {
   "cell_type": "markdown",
   "metadata": {},
   "source": [
    "<h3 style=\"color:#1C82AD;\">Crossover Base On Each Choromose Fitness : </h3>"
   ]
  },
  {
   "cell_type": "code",
   "execution_count": 1283,
   "metadata": {},
   "outputs": [
    {
     "data": {
      "text/plain": [
       "array([<__main__.choromosome object at 0x125de6400>,\n",
       "       <__main__.choromosome object at 0x125de6f70>], dtype=object)"
      ]
     },
     "execution_count": 1283,
     "metadata": {},
     "output_type": "execute_result"
    }
   ],
   "source": [
    "np.random.choice(population[0] , size = 2 , replace = True , p = assignCrossoverChance(population[0]))"
   ]
  },
  {
   "cell_type": "code",
   "execution_count": null,
   "metadata": {},
   "outputs": [],
   "source": []
  },
  {
   "cell_type": "markdown",
   "metadata": {},
   "source": [
    "<pre style=\"color:#03C988;\">The above line show how to choose each choromose base on its fitness fuction to choose in a crossover</pre>"
   ]
  },
  {
   "cell_type": "code",
   "execution_count": 1284,
   "metadata": {},
   "outputs": [],
   "source": [
    "def crossoverProb(prob = 0.8):\n",
    "    if np.random.random() < prob :\n",
    "        return True\n",
    "    return False"
   ]
  },
  {
   "cell_type": "markdown",
   "metadata": {},
   "source": [
    "<pre style=\"color:#03C988;\">The above line generate a random number to if a crossover OCCURS or not </pre>"
   ]
  },
  {
   "cell_type": "code",
   "execution_count": 1285,
   "metadata": {},
   "outputs": [],
   "source": [
    "def crossoverBetweenTwoChoromosome (ch1 , ch2):\n",
    "    if crossoverProb():\n",
    "        \n",
    "        #ONE POINT \n",
    "#         onePoint = np.random.randint(1 , numberOfStocks)\n",
    "#         child1 = np.append(ch1.genes[:onePoint] , ch2.genes[onePoint:])\n",
    "#         child2 = np.append(ch2.genes[:onePoint] , ch1.genes[onePoint:])\n",
    "        \n",
    "        \n",
    "        #N POINT\n",
    "#         for point in range (numberOfStocks):\n",
    "#             if np.random.random() < 0.5 :\n",
    "#                 print(point)\n",
    "#                 child1 = np.append(ch1.genes[:point] , ch2.genes[point:])\n",
    "#                 child2 = np.append(ch2.genes[:point] , ch1.genes[point:])\n",
    "            \n",
    "#         print(child1)\n",
    "#         print(child2)\n",
    "        \n",
    "        #UNIFORM POINT\n",
    "    \n",
    "    \n",
    "        child1 = np.array([])\n",
    "        child2 = np.array([])\n",
    "        \n",
    "        \n",
    "        for point in range (numberOfStocks):\n",
    "            if np.random.random() < 0.5 :\n",
    "                child1 = np.append(child1 , ch2.genes[point])\n",
    "                child2 = np.append(child2 , ch1.genes[point])\n",
    "            else :\n",
    "                child1 = np.append(child1 , ch1.genes[point])\n",
    "                child2 = np.append(child2 , ch2.genes[point])\n",
    "            \n",
    "\n",
    "    \n",
    "        \n",
    "        return (choromosome(child1) , choromosome(child2))\n",
    "    else :\n",
    "        return (ch1 , ch2)\n",
    "        "
   ]
  },
  {
   "cell_type": "code",
   "execution_count": 1286,
   "metadata": {},
   "outputs": [],
   "source": [
    "def crossoverOnPopulation(mate):\n",
    "    newGeneration = np.array([])\n",
    "    \n",
    "    for i in range(len(mate)) :\n",
    "        for j in range(i):\n",
    "            childs = crossoverBetweenTwoChoromosome(mate[i] , mate[j])\n",
    "            newGeneration = np.append (newGeneration , childs)\n",
    "    \n",
    "\n",
    "    return newGeneration.tolist()"
   ]
  },
  {
   "cell_type": "code",
   "execution_count": null,
   "metadata": {},
   "outputs": [],
   "source": []
  },
  {
   "cell_type": "code",
   "execution_count": 1287,
   "metadata": {},
   "outputs": [],
   "source": [
    "pMutationForCh = 0.1\n",
    "pMutationGene = 0.1\n",
    "\n",
    "def mutation(ch):\n",
    "    if np.random.random() < pMutationForCh :\n",
    "        copyOfCh = np.array([])\n",
    "        copyOfCh = np.append(copyOfCh , ch.genes)\n",
    "        for g in range(numberOfStocks):\n",
    "            if np.random.random() < pMutationGene :\n",
    "                copyOfCh[g] = np.random.random()\n",
    "        return (choromosome(copyOfCh))\n",
    "    return ch "
   ]
  },
  {
   "cell_type": "code",
   "execution_count": 1288,
   "metadata": {},
   "outputs": [],
   "source": [
    "def mutationOnPopulation (thePopulation):\n",
    "    mutatedGeneration = []\n",
    "    for man in thePopulation:\n",
    "        mutatedGeneration.append(mutation(man))\n",
    "    return mutatedGeneration\n",
    "        "
   ]
  },
  {
   "cell_type": "code",
   "execution_count": 1289,
   "metadata": {},
   "outputs": [],
   "source": [
    "def matingPool (pop):\n",
    "    crossoverWeight =  assignCrossoverChance(pop)\n",
    "    arr = np.array([])\n",
    "    arr = np.append( arr , elitePopulation(pop))\n",
    "    arr = np.append( arr , np.random.choice(pop , size = int(initialPopulationSize/10) , replace = True , p = crossoverWeight))\n",
    "    return arr"
   ]
  },
  {
   "cell_type": "code",
   "execution_count": null,
   "metadata": {},
   "outputs": [],
   "source": []
  },
  {
   "cell_type": "code",
   "execution_count": 1290,
   "metadata": {},
   "outputs": [],
   "source": [
    "def goalTest(pop):\n",
    "    for ch in pop[:10]:\n",
    "        is_goal(ch)"
   ]
  },
  {
   "cell_type": "code",
   "execution_count": 1291,
   "metadata": {},
   "outputs": [
    {
     "data": {
      "text/plain": [
       "1"
      ]
     },
     "execution_count": 1291,
     "metadata": {},
     "output_type": "execute_result"
    }
   ],
   "source": [
    "len(population)"
   ]
  },
  {
   "cell_type": "code",
   "execution_count": 1292,
   "metadata": {},
   "outputs": [],
   "source": [
    "def genetic (populaionMatrix ):\n",
    "    numberOfGenerations = 20\n",
    "    for i in range(numberOfGenerations):\n",
    "        print('generation : ' , i)\n",
    "        ranked = rankingPopulatoin(populaionMatrix[i])\n",
    "        mutationOnPopulation(ranked)\n",
    "        mate = matingPool(ranked)\n",
    "        print (\"size of mating pool : \" , len(mate))\n",
    "        populaionMatrix.append(rankingPopulatoin(crossoverOnPopulation(mate)))\n",
    "        goalTest(populaionMatrix[i+1])\n",
    "        print(\"size of generaiont : \" ,len(populaionMatrix[i]))"
   ]
  },
  {
   "cell_type": "code",
   "execution_count": null,
   "metadata": {},
   "outputs": [],
   "source": []
  },
  {
   "cell_type": "code",
   "execution_count": 1294,
   "metadata": {},
   "outputs": [
    {
     "name": "stdout",
     "output_type": "stream",
     "text": [
      "generation :  0\n",
      "size of mating pool :  20\n",
      "size of generaiont :  100\n",
      "generation :  1\n",
      "size of mating pool :  20\n",
      "size of generaiont :  380\n",
      "generation :  2\n",
      "size of mating pool :  20\n",
      "size of generaiont :  380\n",
      "generation :  3\n",
      "size of mating pool :  20\n",
      "size of generaiont :  380\n",
      "generation :  4\n",
      "size of mating pool :  20\n",
      "size of generaiont :  380\n",
      "generation :  5\n",
      "size of mating pool :  20\n",
      "size of generaiont :  380\n",
      "generation :  6\n",
      "size of mating pool :  20\n",
      "size of generaiont :  380\n",
      "generation :  7\n",
      "size of mating pool :  20\n",
      "size of generaiont :  380\n",
      "generation :  8\n",
      "size of mating pool :  20\n",
      "size of generaiont :  380\n",
      "generation :  9\n",
      "size of mating pool :  20\n",
      "size of generaiont :  380\n",
      "generation :  10\n",
      "size of mating pool :  20\n",
      "size of generaiont :  380\n",
      "generation :  11\n",
      "size of mating pool :  20\n",
      "size of generaiont :  380\n",
      "generation :  12\n",
      "size of mating pool :  20\n",
      "size of generaiont :  380\n",
      "generation :  13\n",
      "size of mating pool :  20\n",
      "size of generaiont :  380\n",
      "generation :  14\n",
      "size of mating pool :  20\n",
      "size of generaiont :  380\n",
      "generation :  15\n",
      "size of mating pool :  20\n",
      "size of generaiont :  380\n",
      "generation :  16\n",
      "size of mating pool :  20\n",
      "size of generaiont :  380\n",
      "generation :  17\n",
      "size of mating pool :  20\n",
      "size of generaiont :  380\n",
      "generation :  18\n",
      "size of mating pool :  20\n",
      "size of generaiont :  380\n",
      "generation :  19\n",
      "size of mating pool :  20\n",
      "size of generaiont :  380\n"
     ]
    }
   ],
   "source": [
    "genetic(population)"
   ]
  },
  {
   "cell_type": "code",
   "execution_count": null,
   "metadata": {},
   "outputs": [],
   "source": []
  },
  {
   "cell_type": "markdown",
   "metadata": {},
   "source": [
    "<h3 style=\"color:#1C82AD;\">Questoin 1 :</h3>\n",
    "<pre style=\"color:#03C988;\">\n",
    "A larger initial population generally leads to increased diversity and exploration, as there are more individuals with different genetic makeup that can potentially produce offspring with new combinations of genetic material.\n",
    "\n",
    "On the other hand, a smaller initial population may converge faster, as there are fewer individuals to evaluate and evolve</pre>"
   ]
  },
  {
   "cell_type": "code",
   "execution_count": null,
   "metadata": {},
   "outputs": [],
   "source": []
  },
  {
   "cell_type": "markdown",
   "metadata": {},
   "source": [
    "<h3 style=\"color:#1C82AD;\">Questoin 2 :</h3>\n",
    "<pre style=\"color:#03C988;\">\n",
    "In a genetic algorithm, the size of the population typically remains constant across generations, with a fixed number of individuals undergoing genetic operators to produce the next generation. However, if the new generation becomes bigger than the previous generation, it can have several effects on the algorithm's behavior:\n",
    "\n",
    "1- Increased computational complexity\n",
    "\n",
    "2- Enhanced exploration: A larger population size can potentially lead to increased diversity among the individuals in the population.\n",
    "\n",
    "3- Slower convergence: A larger population size can slow down the convergence speed of the algorithm, as there are more individuals to evaluate and evolve in each generation.\n",
    "\n",
    "\n",
    "</pre>"
   ]
  },
  {
   "cell_type": "code",
   "execution_count": null,
   "metadata": {},
   "outputs": [],
   "source": []
  },
  {
   "cell_type": "markdown",
   "metadata": {},
   "source": [
    "<h3 style=\"color:#1C82AD;\">Questoin 3 :</h3>\n",
    "<pre style=\"color:#03C988;\">\n",
    "the behavior and performance of such an algorithm may differ from a traditional genetic algorithm that incorporates both crossover and mutation.\n",
    "\n",
    "If mutation is omitted and only crossover is used, the algorithm may become more dependent on the initial population and may not explore the search space as effectively. It may converge to a suboptimal solution or get stuck in local optima, especially if the initial population is not diverse enough or if the problem has multiple optima. However, in some cases, a crossover-only approach may still yield satisfactory results depending on the problem being solved and the characteristics of the population.\n",
    "</pre>"
   ]
  },
  {
   "cell_type": "code",
   "execution_count": null,
   "metadata": {},
   "outputs": [],
   "source": []
  },
  {
   "cell_type": "markdown",
   "metadata": {},
   "source": [
    "<h3 style=\"color:#1C82AD;\">Questoin 4 :</h3>\n",
    "<pre style=\"color:#03C988;\">\n",
    "1- Initial With Purpose\n",
    "2- Efficient Encoding\n",
    "3- Population Size\n",
    "4- MOre Complex Fitness Function\n",
    "</pre>"
   ]
  },
  {
   "cell_type": "code",
   "execution_count": null,
   "metadata": {},
   "outputs": [],
   "source": []
  },
  {
   "cell_type": "markdown",
   "metadata": {},
   "source": [
    "<h3 style=\"color:#1C82AD;\">Questoin 5 :</h3>\n",
    "<pre style=\"color:#03C988;\">\n",
    "Better mutaion with more chance \n",
    "</pre>"
   ]
  },
  {
   "cell_type": "code",
   "execution_count": null,
   "metadata": {},
   "outputs": [],
   "source": []
  },
  {
   "cell_type": "markdown",
   "metadata": {},
   "source": [
    "<h3 style=\"color:#1C82AD;\">Questoin 5 :</h3>\n",
    "<pre style=\"color:#03C988;\">\n",
    "Normally we use genetic on problems that have not a specific solution so we can return the best way until the last search \n",
    "</pre>"
   ]
  },
  {
   "cell_type": "code",
   "execution_count": null,
   "metadata": {},
   "outputs": [],
   "source": []
  },
  {
   "cell_type": "code",
   "execution_count": null,
   "metadata": {},
   "outputs": [],
   "source": []
  },
  {
   "cell_type": "code",
   "execution_count": null,
   "metadata": {},
   "outputs": [],
   "source": []
  },
  {
   "cell_type": "code",
   "execution_count": null,
   "metadata": {},
   "outputs": [],
   "source": []
  },
  {
   "cell_type": "code",
   "execution_count": null,
   "metadata": {},
   "outputs": [],
   "source": []
  },
  {
   "cell_type": "code",
   "execution_count": null,
   "metadata": {},
   "outputs": [],
   "source": []
  },
  {
   "cell_type": "code",
   "execution_count": null,
   "metadata": {},
   "outputs": [],
   "source": []
  },
  {
   "cell_type": "code",
   "execution_count": null,
   "metadata": {},
   "outputs": [],
   "source": []
  }
 ],
 "metadata": {
  "kernelspec": {
   "display_name": "Python 3 (ipykernel)",
   "language": "python",
   "name": "python3"
  },
  "language_info": {
   "codemirror_mode": {
    "name": "ipython",
    "version": 3
   },
   "file_extension": ".py",
   "mimetype": "text/x-python",
   "name": "python",
   "nbconvert_exporter": "python",
   "pygments_lexer": "ipython3",
   "version": "3.9.8"
  }
 },
 "nbformat": 4,
 "nbformat_minor": 2
}
