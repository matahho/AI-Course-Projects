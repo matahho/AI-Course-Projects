{
 "cells": [
  {
   "cell_type": "markdown",
   "metadata": {},
   "source": [
    "<h1 style=\"color:#C20A3E;\">Project #1</h1>\n",
    "<h2 style=\"color:#FF5733;\">810100118 - MahdiHajiSeyedHossein</h2>\n",
    "<h2 style=\"color:#FF5733;\">This project was on search bases and compare BFS-IDS-A*-weighted A* to each other </h2>\n",
    "<h3 style=\"color:#FFC300;\">The project was about how to find the optimal path to delivery some food to their costumer and there was some trap that the AGENT should discover them and find the best solution for delivery</h3>"
   ]
  },
  {
   "cell_type": "code",
   "execution_count": 546,
   "metadata": {},
   "outputs": [],
   "source": [
    "from collections import deque\n",
    "import copy\n",
    "import ctypes\n",
    "import numpy as np \n",
    "import networkx as nx\n",
    "import time\n",
    "import matplotlib.pyplot as plt"
   ]
  },
  {
   "cell_type": "code",
   "execution_count": null,
   "metadata": {},
   "outputs": [],
   "source": []
  },
  {
   "cell_type": "code",
   "execution_count": 501,
   "metadata": {},
   "outputs": [],
   "source": [
    "class Student :\n",
    "    def __init__(self , place , fpp , isdel):\n",
    "        self.place = place \n",
    "        self.favPizzaPlace = fpp\n",
    "        self.isDeliverd = isdel\n",
    "    \n",
    "    def __eq__(self, other):\n",
    "        if isinstance(other, Student):\n",
    "            return (self.place == other.place) \\\n",
    "                   and (self.favPizzaPlace == other.favPizzaPlace) \\\n",
    "                   and (self.isDelivered == other.isDeliverd)\n",
    "        return False\n",
    "\n",
    "    def __hash__(self):\n",
    "        return hash((self.place, self.favPizzaPlace, self.isDeliverd))"
   ]
  },
  {
   "cell_type": "code",
   "execution_count": 502,
   "metadata": {},
   "outputs": [],
   "source": [
    "class Edge : \n",
    "    def __init__(self , node1 , node2 , laqTime = 0):\n",
    "        self.nodes = (node1 , node2 , laqTime)"
   ]
  },
  {
   "cell_type": "markdown",
   "metadata": {},
   "source": [
    "<h2 style=\"color:#FF5733;\">This class saves the graph information and pass them to where needed and save the basic edges and nodes of the 'MAP' </h2>\n"
   ]
  },
  {
   "cell_type": "code",
   "execution_count": 672,
   "metadata": {},
   "outputs": [],
   "source": [
    "class Graph :\n",
    "    def __init__ (self , nodes , edges , graph , laqs , ziraj , students , order ):\n",
    "        self.nodes = nodes\n",
    "        self.edges = edges \n",
    "        self.graph = graph\n",
    "        self.laqs = laqs\n",
    "        self.ziraj = ziraj\n",
    "        self.students = students\n",
    "        self.order = order\n",
    "\n",
    "    def findStudentByRestaurant (self , rest):\n",
    "        for stu in self.students:\n",
    "            if stu.favPizzaPlace == rest:\n",
    "                return (stu.place)\n",
    "   \n",
    "    \n",
    "    def isThereOrderPriority(self , node):\n",
    "        indexOfStu = int(list(self.students.keys()).index(self.findStudentByRestaurant(node))+1)\n",
    "        for con in self.order:\n",
    "            if con[1] == indexOfStu :\n",
    "                return (True)\n",
    "        return (False)\n",
    "    \n",
    "\n",
    "    def isLaq (self , node1 , node2):\n",
    "        for i in range(len(self.laqs)):\n",
    "            if node1 in self.laqs[i][0] and node2 in self.laqs[i][0]:\n",
    "                return (True , self.laqs[i][2])\n",
    "        return (False , 0)\n",
    "    "
   ]
  },
  {
   "cell_type": "markdown",
   "metadata": {},
   "source": [
    "<h2 style=\"color:#C20A3E;\">The state class save the current information and we should search on ALL POSSIBLE states to find the goal state</h2>\n",
    "<h2 style=\"color:#FF5733;\">--The initial state is the students' palces and their favorite pizza place </h2>\n",
    "<h2 style=\"color:#FF5733;\">--The goal state was an state that all pizzas were deliverd and the priority of costumer had been statisfied</h2>\n",
    "<h2 style=\"color:#FF5733;\">--Every state had some neighbor state that they were possible states to go </h2>"
   ]
  },
  {
   "cell_type": "code",
   "execution_count": 1010,
   "metadata": {},
   "outputs": [],
   "source": [
    "class State :\n",
    "    def __init__(self , ziraj , students , order , parent=None):\n",
    "        self.ziraj = ziraj\n",
    "        self.pickupPizza = '0'\n",
    "        self.adjacent = []\n",
    "        self.parent = parent\n",
    "        self.students = students\n",
    "        self.order = order\n",
    "        self.heuristic = 0\n",
    "        self.cost = 0\n",
    "        self.evaluation = 0\n",
    "        \n",
    "\n",
    "    def calcHeuristic (self):\n",
    "        arr = np.array([obj.isDeliverd for obj in self.students])\n",
    "        self.heuristic = arr.sum()\n",
    "        \n",
    "        \n",
    "    def calcCost(self):\n",
    "        par = copy.deepcopy(self.parent)\n",
    "        while par != None:\n",
    "            par = par.parent\n",
    "            self.cost += 1\n",
    "            \n",
    "    def calcEvaluation(self):\n",
    "        self.calcCost()\n",
    "        self.calcHeuristic()\n",
    "        self.evaluation = self.heuristic + self.cost\n",
    "        \n",
    "        \n",
    "        \n",
    "    def calcHeuristicWeighted (self , alpha):\n",
    "        arr = np.array([obj.isDeliverd for obj in self.students])\n",
    "        self.heuristic = (arr.sum()) * alpha\n",
    "        \n",
    "\n",
    "        \n",
    "        \n",
    "\n",
    "    def deliverdToStudent(self):\n",
    "        for s in range(len(self.students)):\n",
    "            if self.students[s].place == self.ziraj : \n",
    "                self.students[s].isDeliverd = True \n",
    "                self.pickupPizza = '0'\n",
    "                break\n",
    "    \n",
    "        for con in range(len(self.order)):\n",
    "            if self.order[con][0] == (s+1) :\n",
    "                lis = list(self.order[con])\n",
    "                lis[2] = True\n",
    "                self.order[con] = tuple(lis)\n",
    "    \n",
    "    \n",
    "    \n",
    "    def isThereOrderPriority(self , node):\n",
    "        found = False\n",
    "        for index in range(len(self.students)):\n",
    "            if (self.students[index].favPizzaPlace == node):\n",
    "                found = True\n",
    "                break\n",
    "        if found == True :\n",
    "            for con in self.order:\n",
    "                if con[1] == (1+index) and con[2] == False:\n",
    "                    return (True)\n",
    "            return (False)\n",
    "        else :\n",
    "            return (False)\n",
    "        \n",
    "        \n",
    "    \n",
    "    def isHereRestaurant(self):\n",
    "        for s in range(len(students)):\n",
    "            if self.students[s].favPizzaPlace == self.ziraj and self.students[s].isDeliverd == False:\n",
    "                return True\n",
    "        return False    \n",
    "        \n",
    "                \n",
    "    def goalTest(self):\n",
    "        for s in range(len(self.students)):\n",
    "            if self.students[s].isDeliverd == False:\n",
    "                return False\n",
    "        return True\n",
    "    \n",
    "    \n",
    "    def __hash__(self):\n",
    "        state_tuple = (self.ziraj, tuple(self.students) , self.pickupPizza , tuple(self.order))\n",
    "        return hash(state_tuple)\n",
    "\n",
    "\n",
    "    def __eq__(self, other):\n",
    "        if isinstance(other, State):\n",
    "            return self.ziraj == other.ziraj \\\n",
    "                and self.pickupPizza == other.pickupPizza \\\n",
    "                and all(self.students[i].isDeliverd == other.students[i].isDeliverd for i in range(len(self.students)))\\\n",
    "                and all(self.order[i][2] == other.order[i][2] for i in range(len(self.order)))\n",
    "        return False\n",
    "\n",
    "\n",
    "    \n",
    "    \n",
    "    \n"
   ]
  },
  {
   "cell_type": "code",
   "execution_count": 674,
   "metadata": {},
   "outputs": [],
   "source": [
    "def parseFile (theFile):\n",
    "    nodes = set()\n",
    "    edges = []\n",
    "    graph = {}\n",
    "    laqs = []\n",
    "    ziraj = ''\n",
    "    students = []\n",
    "    order = []\n",
    "    restaurant = []\n",
    "\n",
    "\n",
    "    f = open(theFile , 'r')\n",
    "    n , m = map(int , f.readline().split())\n",
    "    for edge in range(m):\n",
    "\n",
    "        n1 , n2 = f.readline().split()\n",
    "        nodes.add(n1)\n",
    "        nodes.add(n2)\n",
    "        edges.append((n1 , n2 , 0))\n",
    "\n",
    "    for edge in edges:        \n",
    "        if edge[0] not in graph:\n",
    "            graph[edge[0]] = []\n",
    "        graph[edge[0]].append(edge[1])\n",
    "\n",
    "        if edge[1] not in graph:\n",
    "            graph[edge[1]] = []\n",
    "        graph[edge[1]].append(edge[0])\n",
    "\n",
    "\n",
    "\n",
    "    h = int(f.readline())\n",
    "    for laq in range(h):\n",
    "        i , xi = map (int , f.readline().split())\n",
    "        laqs.append([edges[i-1] , i , xi])\n",
    "        li = list(edges[i-1])\n",
    "        li[2] = xi\n",
    "        edges[i-1] = tuple(li)\n",
    "\n",
    "    ziraj = str(int(f.readline()))\n",
    "\n",
    "    s = int(f.readline())\n",
    "    for stu in range(s):\n",
    "        p , q = f.readline().split()\n",
    "        students.append(Student(p , q , False))\n",
    "        \n",
    "\n",
    "\n",
    "    t = int(f.readline())\n",
    "    for orde in range(t):\n",
    "        s1 , s2 = f.readline().split()\n",
    "        order.append((int(s1) , int(s2) , False ))\n",
    "\n",
    "    f.close()\n",
    "    return (nodes , edges , graph , laqs , ziraj , students , order) \n"
   ]
  },
  {
   "cell_type": "markdown",
   "metadata": {},
   "source": [
    "<h2 style=\"color:#C20A3E;\">This function contols some edges that were LAQ</h2>\n",
    "<h2 style=\"color:#FF5733;\">--***When we want to add a neighbor we check if xi parents before the current has crossed any laqs edges or not***</h2>"
   ]
  },
  {
   "cell_type": "code",
   "execution_count": 675,
   "metadata": {},
   "outputs": [],
   "source": [
    "def isCrossable (MAP , node1 , node2 , current):\n",
    "    status , xi = MAP.isLaq(node1 , node2)\n",
    "    if status == False:\n",
    "        return True\n",
    "    else :\n",
    "        for count in range(xi):\n",
    "            par = current.parent\n",
    "            if par != None and par.parent != None:\n",
    "                tup = (par.ziraj , par.parent.ziraj)\n",
    "                if node1 in tup and node2 in tup:\n",
    "                    return False\n",
    "                par = par.parent\n",
    "            \n",
    "    return True"
   ]
  },
  {
   "cell_type": "markdown",
   "metadata": {},
   "source": [
    "<h2 style=\"color:#C20A3E;\">There were all four possible move :<br>\n",
    "    -1 : Have a pizza and the current place was the goal costumer.<br>\n",
    "    -2 : Have a pizza and the current place was not the goal delivery place <br>\n",
    "    -3 : Don't have any pizza in box and there was a resturant.<br>\n",
    "    -4 : Don't have any pizza and there was nothing to capture.</h2>"
   ]
  },
  {
   "cell_type": "code",
   "execution_count": 676,
   "metadata": {},
   "outputs": [],
   "source": [
    "def addNeighbor(MAP , current , visited):\n",
    "    if current.pickupPizza != '0'and MAP.findStudentByRestaurant(current.pickupPizza) == current.ziraj:\n",
    "        for nei in MAP.graph[current.ziraj]:\n",
    "            if isCrossable(MAP , current.ziraj , nei , current):\n",
    "                current.deliverdToStudent()\n",
    "                new = State(nei , copy.deepcopy(current.students), copy.deepcopy(current.order) , current)\n",
    "                new.pickupPizza = '0'\n",
    "                if new not in visited:\n",
    "                    current.adjacent.append(new)\n",
    "        \n",
    "        \n",
    "    if current.pickupPizza != '0' and MAP.findStudentByRestaurant(current.pickupPizza) != current.ziraj:\n",
    "        for nei in MAP.graph[current.ziraj]:\n",
    "            if isCrossable(MAP , current.ziraj , nei , current):\n",
    "                new = State(nei , copy.deepcopy(current.students) ,copy.deepcopy(current.order), current)\n",
    "                new.pickupPizza = copy.deepcopy(current.pickupPizza)\n",
    "                if new not in visited:\n",
    "                    current.adjacent.append(new)\n",
    "\n",
    "\n",
    "    if current.pickupPizza == '0' and current.isHereRestaurant():\n",
    "        for nei in MAP.graph[current.ziraj]:\n",
    "            if isCrossable(MAP , current.ziraj , nei , current):\n",
    "                new = State(nei , copy.deepcopy(current.students),copy.deepcopy(current.order) , current)\n",
    "                new.pickupPizza = '0'\n",
    "                if new not in visited:\n",
    "                    current.adjacent.append(new)\n",
    "\n",
    "                if current.isThereOrderPriority(current.ziraj)==False:\n",
    "                    new2 = State(nei , copy.deepcopy(current.students),copy.deepcopy(current.order) , current)\n",
    "                    new2.pickupPizza = copy.deepcopy(current.ziraj)        \n",
    "                    if new2 not in visited:\n",
    "                        current.adjacent.append(new2)\n",
    "\n",
    "            \n",
    "\n",
    "\n",
    "\n",
    "            \n",
    "    if current.pickupPizza == '0' and (current.isHereRestaurant() == False):\n",
    "        for nei in MAP.graph[current.ziraj]:\n",
    "            if isCrossable(MAP , current.ziraj , nei , current):\n",
    "                new = State(nei , copy.deepcopy(current.students), copy.deepcopy(current.order) , current )\n",
    "                new.pickupPizza = '0'\n",
    "                if new not in visited:\n",
    "                    current.adjacent.append(new)\n",
    "\n",
    "\n",
    "            \n",
    "            \n",
    "            "
   ]
  },
  {
   "cell_type": "code",
   "execution_count": 677,
   "metadata": {},
   "outputs": [],
   "source": [
    "def NumDeli(ob):\n",
    "    count = []\n",
    "    for s in ob.students :\n",
    "        if s.isDeliverd == False :\n",
    "            count += [s.place]\n",
    "    return count"
   ]
  },
  {
   "cell_type": "code",
   "execution_count": 678,
   "metadata": {},
   "outputs": [],
   "source": [
    "def printPath(output):\n",
    "    li = []\n",
    "    while output:\n",
    "        li.append(output.ziraj)\n",
    "        print(output.ziraj, end=' <= ' if output.parent else '')# , output.pickupPizza , NumDeli(output))\n",
    "        output = output.parent\n",
    "    return li\n"
   ]
  },
  {
   "cell_type": "code",
   "execution_count": 679,
   "metadata": {},
   "outputs": [],
   "source": [
    "def drawGraph(theMap):\n",
    "    # create a graph\n",
    "    G = nx.Graph()\n",
    "    for k, v in theMap.graph.items():\n",
    "        G.add_edges_from(([(k, t) for t in v]) )\n",
    "\n",
    "    colo_edges = [(path[i], path[i+1]) for i in range(len(path)-1)]\n",
    "    edge_colors = ['red' if (u,v) in colo_edges or (v,u) in colo_edges else 'black' for u,v in G.edges()]\n",
    "\n",
    "    # draw the graph with edge colors\n",
    "    pos = nx.spring_layout(G)\n",
    "    nx.draw_networkx_nodes(G, pos)\n",
    "    nx.draw_networkx_edges(G, pos, edge_color=edge_colors)\n",
    "    nx.draw_networkx_labels(G, pos)\n",
    "    plt.show()"
   ]
  },
  {
   "cell_type": "markdown",
   "metadata": {},
   "source": [
    "<h1 style=\"color:#C20A3E;\">BFS</h1>"
   ]
  },
  {
   "cell_type": "code",
   "execution_count": 1110,
   "metadata": {},
   "outputs": [],
   "source": [
    "            \n",
    "def BFS (MAP):\n",
    "    initial = State(MAP.ziraj ,MAP.students , MAP.order)\n",
    "    if initial.goalTest() :\n",
    "        print(\"Num of Visited:\" , len(visited))\n",
    "        return initial\n",
    "    \n",
    "    frontier = deque()\n",
    "    frontier.append(initial)\n",
    "    visited = set()\n",
    "    \n",
    "    while frontier :\n",
    "        \n",
    "        current = frontier.popleft()    \n",
    "        visited.add(current)\n",
    "        addNeighbor(MAP , current , visited)\n",
    "\n",
    "        if current.goalTest():\n",
    "            print(\"Num of Visited:\" , len(visited))\n",
    "            return current\n",
    "        \n",
    "        #print(current.ziraj , current.pickupPizza , NumDeli(current) , current.order)\n",
    "        for child in current.adjacent :\n",
    "            if child not in visited:\n",
    "                visited.add(child)\n",
    "                if (child.goalTest()):\n",
    "                    print(\"Num of Visited:\" , len(visited))\n",
    "                    return child\n",
    "                frontier.append(child)\n",
    "      \n",
    "    print(\"Num of Visited:\" , len(visited))"
   ]
  },
  {
   "cell_type": "code",
   "execution_count": null,
   "metadata": {},
   "outputs": [],
   "source": []
  },
  {
   "cell_type": "code",
   "execution_count": 1111,
   "metadata": {},
   "outputs": [],
   "source": [
    "nodes , edges , graph , laqs , ziraj , students , order = parseFile('./tests/Test1.txt')\n",
    "theMap = Graph(nodes , edges , graph , laqs , ziraj , students , order)"
   ]
  },
  {
   "cell_type": "code",
   "execution_count": null,
   "metadata": {},
   "outputs": [],
   "source": []
  },
  {
   "cell_type": "code",
   "execution_count": 1112,
   "metadata": {},
   "outputs": [
    {
     "data": {
      "text/plain": [
       "{'4': ['1', '6', '10'],\n",
       " '1': ['4', '5', '3', '9', '7'],\n",
       " '5': ['9', '1', '10', '3'],\n",
       " '9': ['5', '8', '6', '10', '7', '1', '2'],\n",
       " '8': ['9', '3', '2'],\n",
       " '10': ['5', '6', '2', '9', '4'],\n",
       " '6': ['10', '4', '9', '2'],\n",
       " '2': ['10', '8', '6', '9'],\n",
       " '3': ['8', '5', '1'],\n",
       " '7': ['9', '1']}"
      ]
     },
     "execution_count": 1112,
     "metadata": {},
     "output_type": "execute_result"
    }
   ],
   "source": [
    "theMap.graph"
   ]
  },
  {
   "cell_type": "code",
   "execution_count": 1113,
   "metadata": {},
   "outputs": [
    {
     "name": "stdout",
     "output_type": "stream",
     "text": [
      "8 3\n",
      "10 4\n",
      "2 7\n",
      "1 9\n"
     ]
    }
   ],
   "source": [
    "for s in theMap.students:\n",
    "    print(s.place , s.favPizzaPlace)"
   ]
  },
  {
   "cell_type": "code",
   "execution_count": null,
   "metadata": {},
   "outputs": [],
   "source": []
  },
  {
   "cell_type": "code",
   "execution_count": null,
   "metadata": {},
   "outputs": [],
   "source": []
  },
  {
   "cell_type": "code",
   "execution_count": 1114,
   "metadata": {},
   "outputs": [
    {
     "name": "stdout",
     "output_type": "stream",
     "text": [
      "Num of Visited: 238\n",
      "2 <= 9 <= 7 <= 1 <= 9 <= 8 <= 3 <= 5 <= 10 <= 4 <= 6 Compute time : 0.10439s\n",
      "Num of Visited: 238\n",
      "2 <= 9 <= 7 <= 1 <= 9 <= 8 <= 3 <= 5 <= 10 <= 4 <= 6 Compute time : 0.094009s\n",
      "Num of Visited: 238\n",
      "2 <= 9 <= 7 <= 1 <= 9 <= 8 <= 3 <= 5 <= 10 <= 4 <= 6 Compute time : 0.085364s\n"
     ]
    }
   ],
   "source": [
    "for i in range(0 , 3):\n",
    "    tic = time.time()\n",
    "    output = BFS(theMap)\n",
    "    toc = time.time()\n",
    "    path = printPath(output)\n",
    "    print (f\" Compute time : {round((toc - tic), 6)}s\")\n"
   ]
  },
  {
   "cell_type": "code",
   "execution_count": 1115,
   "metadata": {},
   "outputs": [
    {
     "data": {
      "image/png": "[encoded data removed]",
      "text/plain": [
       "<Figure size 640x480 with 1 Axes>"
      ]
     },
     "metadata": {},
     "output_type": "display_data"
    }
   ],
   "source": [
    "drawGraph(theMap)"
   ]
  },
  {
   "cell_type": "code",
   "execution_count": null,
   "metadata": {},
   "outputs": [],
   "source": []
  },
  {
   "cell_type": "markdown",
   "metadata": {},
   "source": [
    "<div class=\"container\">\n",
    "\t<table>\n",
    "\t\t<thead>\n",
    "\t\t\t<tr>\n",
    "\t\t\t\t<th>First Run</th>\n",
    "\t\t\t\t<th>Second Run</th>\n",
    "\t\t\t\t<th>Third Run</th>\n",
    "                <th>Average</th>\n",
    "\t\t\t</tr>\n",
    "\t\t</thead>\n",
    "\t\t<tbody>\n",
    "\t\t\t<tr>\n",
    "\t\t\t\t<td>0.110404s</td>\n",
    "\t\t\t\t<td>0.085647s</td>\n",
    "\t\t\t\t<td>0.095264s</td>\n",
    "                <td><b>0.097105s</b></td>\n",
    "            </tr>\n",
    "\t\t</tbody>\n",
    "\t</table>\n",
    "</div>"
   ]
  },
  {
   "cell_type": "markdown",
   "metadata": {},
   "source": [
    "<b>---------------------------------------------------------------------------------------------------------------------------------------------------------------------------</b>"
   ]
  },
  {
   "cell_type": "code",
   "execution_count": 1120,
   "metadata": {},
   "outputs": [],
   "source": [
    "nodes , edges , graph , laqs , ziraj , students , order = parseFile('./tests/Test2.txt')\n",
    "theMap = Graph(nodes , edges , graph , laqs , ziraj , students , order)"
   ]
  },
  {
   "cell_type": "code",
   "execution_count": 1121,
   "metadata": {},
   "outputs": [
    {
     "data": {
      "text/plain": [
       "{'12': ['15', '3', '6', '13', '14', '7'],\n",
       " '15': ['12', '4'],\n",
       " '3': ['12', '8', '2', '9', '13', '5'],\n",
       " '11': ['8', '10', '14', '5'],\n",
       " '8': ['11', '3', '6', '14'],\n",
       " '6': ['12', '14', '8', '4'],\n",
       " '7': ['14', '2', '12', '4'],\n",
       " '14': ['7', '9', '11', '6', '8', '1', '12'],\n",
       " '10': ['11', '4'],\n",
       " '2': ['3', '5', '13', '7'],\n",
       " '5': ['2', '11', '3'],\n",
       " '9': ['14', '3', '4'],\n",
       " '4': ['15', '10', '9', '6', '7', '13'],\n",
       " '13': ['12', '2', '3', '4'],\n",
       " '1': ['14']}"
      ]
     },
     "execution_count": 1121,
     "metadata": {},
     "output_type": "execute_result"
    }
   ],
   "source": [
    "theMap.graph"
   ]
  },
  {
   "cell_type": "code",
   "execution_count": 1122,
   "metadata": {},
   "outputs": [
    {
     "name": "stdout",
     "output_type": "stream",
     "text": [
      "Num of Visited: 498\n",
      "13 <= 3 <= 8 <= 11 <= 10 <= 4 <= 6 <= 8 <= 6 <= 12 <= 3 <= 12 <= 14 <= 1 <= 14 <= 12 <= 15 <= 4 <= 9 <= 14\n",
      "\n",
      " Compute time : 0.279129s\n",
      "Num of Visited: 498\n",
      "13 <= 3 <= 8 <= 11 <= 10 <= 4 <= 6 <= 8 <= 6 <= 12 <= 3 <= 12 <= 14 <= 1 <= 14 <= 12 <= 15 <= 4 <= 9 <= 14\n",
      "\n",
      " Compute time : 0.228866s\n",
      "Num of Visited: 498\n",
      "13 <= 3 <= 8 <= 11 <= 10 <= 4 <= 6 <= 8 <= 6 <= 12 <= 3 <= 12 <= 14 <= 1 <= 14 <= 12 <= 15 <= 4 <= 9 <= 14\n",
      "\n",
      " Compute time : 0.570154s\n"
     ]
    }
   ],
   "source": [
    "for i in range(0 , 3):\n",
    "    tic = time.time()\n",
    "    output = BFS(theMap)\n",
    "    toc = time.time()\n",
    "    path = printPath(output)\n",
    "    print('\\n')\n",
    "    print (f\" Compute time : {round((toc - tic), 6)}s\")\n"
   ]
  },
  {
   "cell_type": "code",
   "execution_count": null,
   "metadata": {},
   "outputs": [],
   "source": []
  },
  {
   "cell_type": "code",
   "execution_count": 696,
   "metadata": {},
   "outputs": [
    {
     "data": {
      "image/png": "[encoded data removed]",
      "text/plain": [
       "<Figure size 640x480 with 1 Axes>"
      ]
     },
     "metadata": {},
     "output_type": "display_data"
    }
   ],
   "source": [
    "drawGraph(theMap)"
   ]
  },
  {
   "cell_type": "markdown",
   "metadata": {},
   "source": [
    "<div class=\"container\">\n",
    "\t<table>\n",
    "\t\t<thead>\n",
    "\t\t\t<tr>\n",
    "\t\t\t\t<th>First Run</th>\n",
    "\t\t\t\t<th>Second Run</th>\n",
    "\t\t\t\t<th>Third Run</th>\n",
    "                <th>Average</th>\n",
    "\t\t\t</tr>\n",
    "\t\t</thead>\n",
    "\t\t<tbody>\n",
    "\t\t\t<tr>\n",
    "\t\t\t\t<td>0.26321s</td>\n",
    "\t\t\t\t<td>0.228546s</td>\n",
    "\t\t\t\t<td>0.237298s</td>\n",
    "                <td><b>0.243018s</b></td>\n",
    "            </tr>\n",
    "\t\t</tbody>\n",
    "\t</table>\n",
    "</div>"
   ]
  },
  {
   "cell_type": "markdown",
   "metadata": {},
   "source": [
    "<b>---------------------------------------------------------------------------------------------------------------------------------------------------------------------------</b>"
   ]
  },
  {
   "cell_type": "code",
   "execution_count": 1146,
   "metadata": {},
   "outputs": [],
   "source": [
    "nodes , edges , graph , laqs , ziraj , students , order = parseFile('./tests/Test3.txt')\n",
    "theMap = Graph(nodes , edges , graph , laqs , ziraj , students , order)"
   ]
  },
  {
   "cell_type": "code",
   "execution_count": 1147,
   "metadata": {},
   "outputs": [
    {
     "data": {
      "text/plain": [
       "{'9': ['16', '20', '17', '12', '15', '8', '6'],\n",
       " '16': ['9', '12', '5', '14', '17'],\n",
       " '5': ['15', '20', '16', '17', '10', '7'],\n",
       " '15': ['5', '12', '7', '9', '14'],\n",
       " '20': ['5', '9', '8', '2', '13', '4'],\n",
       " '14': ['8', '4', '16', '7', '15', '12'],\n",
       " '8': ['14', '17', '10', '18', '13', '20', '9'],\n",
       " '18': ['2', '4', '8', '10'],\n",
       " '2': ['18', '20', '12'],\n",
       " '17': ['8', '19', '9', '5', '16'],\n",
       " '19': ['17', '11', '3', '13'],\n",
       " '12': ['15', '16', '3', '9', '2', '14'],\n",
       " '11': ['19'],\n",
       " '10': ['8', '5', '13', '18'],\n",
       " '4': ['18', '14', '7', '1', '20'],\n",
       " '7': ['4', '14', '15', '5'],\n",
       " '6': ['13', '9'],\n",
       " '13': ['6', '8', '19', '20', '10', '1'],\n",
       " '3': ['19', '12'],\n",
       " '1': ['4', '13']}"
      ]
     },
     "execution_count": 1147,
     "metadata": {},
     "output_type": "execute_result"
    }
   ],
   "source": [
    "theMap.graph"
   ]
  },
  {
   "cell_type": "code",
   "execution_count": 1148,
   "metadata": {},
   "outputs": [
    {
     "name": "stdout",
     "output_type": "stream",
     "text": [
      "Num of Visited: 10157\n",
      "2 <= 18 <= 8 <= 9 <= 8 <= 10 <= 13 <= 6 <= 13 <= 19 <= 11 <= 19 <= 17 <= 8 <= 13 <= 1 <= 13 <= 20 <= 8 <= 14 <= 16 <= 14 <= 4 <= 18 <= 8 <= 13 <= 19 <= 3 <= 12 <= 15 <= 5 <= 15\n",
      "\n",
      " Compute time : 7.9041s\n",
      "Num of Visited: 10157\n",
      "2 <= 18 <= 8 <= 9 <= 8 <= 10 <= 13 <= 6 <= 13 <= 19 <= 11 <= 19 <= 17 <= 8 <= 13 <= 1 <= 13 <= 20 <= 8 <= 14 <= 16 <= 14 <= 4 <= 18 <= 8 <= 13 <= 19 <= 3 <= 12 <= 15 <= 5 <= 15\n",
      "\n",
      " Compute time : 8.05299s\n",
      "Num of Visited: 10157\n",
      "2 <= 18 <= 8 <= 9 <= 8 <= 10 <= 13 <= 6 <= 13 <= 19 <= 11 <= 19 <= 17 <= 8 <= 13 <= 1 <= 13 <= 20 <= 8 <= 14 <= 16 <= 14 <= 4 <= 18 <= 8 <= 13 <= 19 <= 3 <= 12 <= 15 <= 5 <= 15\n",
      "\n",
      " Compute time : 7.773544s\n"
     ]
    }
   ],
   "source": [
    "for i in range(0 , 3):\n",
    "    tic = time.time()\n",
    "    output = BFS(theMap)\n",
    "    toc = time.time()\n",
    "    path = printPath(output)\n",
    "    print('\\n')\n",
    "    print (f\" Compute time : {round((toc - tic), 6)}s\")\n"
   ]
  },
  {
   "cell_type": "code",
   "execution_count": 1149,
   "metadata": {},
   "outputs": [
    {
     "data": {
      "image/png": "[encoded data removed]",
      "text/plain": [
       "<Figure size 640x480 with 1 Axes>"
      ]
     },
     "metadata": {},
     "output_type": "display_data"
    }
   ],
   "source": [
    "drawGraph(theMap)"
   ]
  },
  {
   "cell_type": "markdown",
   "metadata": {},
   "source": [
    "<div class=\"container\">\n",
    "\t<table>\n",
    "\t\t<thead>\n",
    "\t\t\t<tr>\n",
    "\t\t\t\t<th>First Run</th>\n",
    "\t\t\t\t<th>Second Run</th>\n",
    "\t\t\t\t<th>Third Run</th>\n",
    "                <th>Average</th>\n",
    "\t\t\t</tr>\n",
    "\t\t</thead>\n",
    "\t\t<tbody>\n",
    "\t\t\t<tr>\n",
    "\t\t\t\t<td>7.73762s</td>\n",
    "\t\t\t\t<td>7.832461s</td>\n",
    "\t\t\t\t<td>7.663302s</td>\n",
    "                <td><b>7.744461</b></td>\n",
    "            </tr>\n",
    "\t\t</tbody>\n",
    "\t</table>\n",
    "</div>"
   ]
  },
  {
   "cell_type": "markdown",
   "metadata": {},
   "source": [
    "<b>--------------------------------------------------------------------------------------------------------------------------------------------------------------------------</b>"
   ]
  },
  {
   "cell_type": "markdown",
   "metadata": {},
   "source": [
    "<b>--------------------------------------------------------------------------------------------------------------------------------------------------------------------------</b>"
   ]
  },
  {
   "cell_type": "markdown",
   "metadata": {},
   "source": [
    "<h1 style=\"color:#C20A3E;\">IDS (using iterative DFS)</h1>\n",
    "<h3 style=\"color:#FFC300;\">The diffrences between below function and the above function in BFS is that DFS does NOT save visited nodes . </h3>"
   ]
  },
  {
   "cell_type": "code",
   "execution_count": 868,
   "metadata": {},
   "outputs": [],
   "source": [
    "def addNeighborDFS(MAP , current):\n",
    "    \n",
    "    if current.pickupPizza != '0'and MAP.findStudentByRestaurant(current.pickupPizza) == current.ziraj:\n",
    "        for nei in MAP.graph[current.ziraj]:\n",
    "            if isCrossable(MAP , current.ziraj , nei , current):\n",
    "                current.deliverdToStudent()\n",
    "                new = State(nei , copy.deepcopy(current.students), copy.deepcopy(current.order) , current)\n",
    "                new.pickupPizza = '0'\n",
    "                current.adjacent.append(new)\n",
    "\n",
    "    if current.pickupPizza != '0' and MAP.findStudentByRestaurant(current.pickupPizza) != current.ziraj:\n",
    "        \n",
    "        copyOfStu = copy.deepcopy(current.students)\n",
    "        copyOfOrd = copy.deepcopy(current.order)\n",
    "        for nei in MAP.graph[current.ziraj]:\n",
    "            if isCrossable(MAP , current.ziraj , nei , current):\n",
    "                new = State(nei ,copyOfStu  ,copyOfOrd, current)\n",
    "                new.pickupPizza = copy.deepcopy(current.pickupPizza)\n",
    "                current.adjacent.append(new)\n",
    "\n",
    "\n",
    "    if current.pickupPizza == '0' and current.isHereRestaurant():\n",
    "        \n",
    "        copyOfStu = copy.deepcopy(current.students)\n",
    "        copyOfOrd = copy.deepcopy(current.order)\n",
    "        for nei in MAP.graph[current.ziraj]:\n",
    "            if isCrossable(MAP , current.ziraj , nei , current):\n",
    "\n",
    "                new = State(nei , copyOfStu,copyOfOrd , current)\n",
    "                new.pickupPizza = '0'\n",
    "                current.adjacent.append(new)\n",
    "                if current.isThereOrderPriority(current.ziraj)==False:\n",
    "                    new2 = State(nei , copyOfStu,copyOfOrd  , current)\n",
    "                    new2.pickupPizza = copy.deepcopy(current.ziraj)        \n",
    "                    current.adjacent.append(new2)\n",
    "\n",
    "            \n",
    "\n",
    "\n",
    "\n",
    "            \n",
    "    if current.pickupPizza == '0' and (current.isHereRestaurant() == False):\n",
    "        \n",
    "        copyOfStu = copy.deepcopy(current.students)\n",
    "        copyOfOrd = copy.deepcopy(current.order)\n",
    "        for nei in MAP.graph[current.ziraj]:\n",
    "            if isCrossable(MAP , current.ziraj , nei , current):\n",
    "\n",
    "                new = State(nei ,copyOfStu,copyOfOrd , current )\n",
    "                new.pickupPizza = '0'\n",
    "                current.adjacent.append(new)\n",
    "\n",
    "            "
   ]
  },
  {
   "cell_type": "markdown",
   "metadata": {},
   "source": [
    "<h3 style=\"color:#FFC300;\">To detect cycles in DFS, you can keep track of the visited nodes and the parent of each node. If during the DFS traversal you encounter a node that has already been visited and its parent is not the current node, then it indicates a cycle.</h3>"
   ]
  },
  {
   "cell_type": "code",
   "execution_count": 869,
   "metadata": {},
   "outputs": [],
   "source": [
    "def isCycle (cur):\n",
    "    par = cur.parent\n",
    "    while par != None:\n",
    "        if cur == par:\n",
    "            return True\n",
    "        else:\n",
    "            par = par.parent\n",
    "    return False"
   ]
  },
  {
   "cell_type": "markdown",
   "metadata": {},
   "source": [
    "<h4 style=\"color:#FF5733;\">The iterative deepening search algorithm, which repeatedly applies depth- limited search with increasing limits. It terminates when a solution is found or if the depth- limited search returns failure, meaning that no solution exists.</h4>"
   ]
  },
  {
   "cell_type": "code",
   "execution_count": 906,
   "metadata": {},
   "outputs": [],
   "source": [
    "def IDS(MAP):\n",
    "    for depth in range(11, 20):\n",
    "        result = DepthLimited(MAP , depth)\n",
    "        if result != 'cutoff' :\n",
    "            return result"
   ]
  },
  {
   "cell_type": "markdown",
   "metadata": {},
   "source": [
    "<h4 style=\"color:#FF5733;\">When a depth was not useful we will go to the next depth and we will repeat this utility to find the goal state.</h4>"
   ]
  },
  {
   "cell_type": "code",
   "execution_count": 907,
   "metadata": {},
   "outputs": [],
   "source": [
    "def DepthLimited(MAP , limit):\n",
    "    initial = State(MAP.ziraj ,MAP.students , MAP.order)\n",
    "    if initial.goalTest() :\n",
    "        return initial\n",
    "    frontier = [(initial , 1)]\n",
    "    coun = 0\n",
    "    visited = set()\n",
    "    \n",
    "    while frontier:\n",
    "        current , depth = frontier.pop()\n",
    "        \n",
    "\n",
    "        #print(current.ziraj ,NumDeli(current) ,'depth:', depth)\n",
    "        \n",
    "        if depth > limit-1:\n",
    "            continue                \n",
    "        \n",
    "        \n",
    "        visited.add(current)\n",
    "        \n",
    "        if current.goalTest():\n",
    "            return current.parent\n",
    "        \n",
    "        \n",
    "        addNeighborDFS(MAP , current )\n",
    "        \n",
    "        for child in current.adjacent :\n",
    "            if not isCycle(current):\n",
    "                frontier.append((child, depth + 1))\n",
    "    return 'cutoff'\n",
    "        \n",
    "    "
   ]
  },
  {
   "cell_type": "code",
   "execution_count": null,
   "metadata": {},
   "outputs": [],
   "source": []
  },
  {
   "cell_type": "code",
   "execution_count": null,
   "metadata": {},
   "outputs": [],
   "source": []
  },
  {
   "cell_type": "code",
   "execution_count": 961,
   "metadata": {},
   "outputs": [],
   "source": [
    "nodes , edges , graph , laqs , ziraj , students , order = parseFile('./tests/quera.in')\n",
    "theMap = Graph(nodes , edges , graph , laqs , ziraj , students , order)"
   ]
  },
  {
   "cell_type": "code",
   "execution_count": 962,
   "metadata": {},
   "outputs": [
    {
     "data": {
      "text/plain": [
       "{'1': ['2'], '2': ['1', '3'], '3': ['2', '4', '5'], '4': ['3'], '5': ['3']}"
      ]
     },
     "execution_count": 962,
     "metadata": {},
     "output_type": "execute_result"
    }
   ],
   "source": [
    "theMap.graph"
   ]
  },
  {
   "cell_type": "code",
   "execution_count": 963,
   "metadata": {},
   "outputs": [
    {
     "name": "stdout",
     "output_type": "stream",
     "text": [
      "4 3\n",
      "5 2\n"
     ]
    }
   ],
   "source": [
    "for s in theMap.students:\n",
    "    print(s.place , s.favPizzaPlace)"
   ]
  },
  {
   "cell_type": "code",
   "execution_count": 964,
   "metadata": {},
   "outputs": [
    {
     "name": "stdout",
     "output_type": "stream",
     "text": [
      "3 <= 2 <= 3 <= 4 <= 3 <= 5 <= 3 <= 2 <= 1 Compute time : 0.001078s\n",
      "3 <= 2 <= 3 <= 4 <= 3 <= 5 <= 3 <= 2 <= 1 Compute time : 0.001073s\n",
      "3 <= 2 <= 3 <= 4 <= 3 <= 5 <= 3 <= 2 <= 1 Compute time : 0.002029s\n"
     ]
    }
   ],
   "source": [
    "for i in range(0 , 3):\n",
    "    tic = time.time()\n",
    "    output = IDS(theMap)\n",
    "    toc = time.time()\n",
    "    path = printPath(output)\n",
    "    print (f\" Compute time : {round((toc - tic), 6)}s\")\n"
   ]
  },
  {
   "cell_type": "code",
   "execution_count": 965,
   "metadata": {},
   "outputs": [
    {
     "data": {
      "image/png": "[encoded data removed]",
      "text/plain": [
       "<Figure size 640x480 with 1 Axes>"
      ]
     },
     "metadata": {},
     "output_type": "display_data"
    }
   ],
   "source": [
    "drawGraph(theMap)"
   ]
  },
  {
   "cell_type": "code",
   "execution_count": null,
   "metadata": {},
   "outputs": [],
   "source": []
  },
  {
   "cell_type": "code",
   "execution_count": null,
   "metadata": {},
   "outputs": [],
   "source": []
  },
  {
   "cell_type": "code",
   "execution_count": null,
   "metadata": {},
   "outputs": [],
   "source": []
  },
  {
   "cell_type": "code",
   "execution_count": null,
   "metadata": {},
   "outputs": [],
   "source": []
  },
  {
   "cell_type": "markdown",
   "metadata": {},
   "source": [
    "<h1 style=\"color:#C20A3E;\">A*</h1>"
   ]
  },
  {
   "cell_type": "markdown",
   "metadata": {},
   "source": [
    "<h3 style=\"color:#C20A3E;\">The heuristic is the number of undelivered pizzas and I discover it when I relaxed the problem and not consider the priority and laq's edges <b>\n",
    "    <br><br>Hence, the cost of an optimal solution to a relaxed problem is an admissible heuristic for the original problem.<b><br><br>\n",
    "\n",
    "<b>Furthermore, because the derived heuristic is an exact cost for the relaxed problem, it must obey the triangle inequality and is therefore consistent <b><br><br>\n",
    "    \n",
    "AND THIS HEURISTIC IS TRUE IN TRIANGLE INEQUALITY<b>\n",
    "</h3>\n",
    "    \n",
    "    \n",
    "  <pre style=\"color:#FFC300;\">refrenced from page 105 in AI russel</pre>"
   ]
  },
  {
   "cell_type": "code",
   "execution_count": null,
   "metadata": {},
   "outputs": [],
   "source": []
  },
  {
   "cell_type": "code",
   "execution_count": null,
   "metadata": {},
   "outputs": [],
   "source": []
  },
  {
   "cell_type": "code",
   "execution_count": null,
   "metadata": {},
   "outputs": [],
   "source": []
  },
  {
   "cell_type": "code",
   "execution_count": 1168,
   "metadata": {},
   "outputs": [],
   "source": [
    "            \n",
    "            \n",
    "            \n",
    "def chooseMinEvaluation (front):\n",
    "    var_array = np.array([obj.evaluation for obj in front])\n",
    "    min_idx = np.argmin(var_array)\n",
    "    return (front[min_idx])\n",
    "    \n",
    "        "
   ]
  },
  {
   "cell_type": "code",
   "execution_count": null,
   "metadata": {},
   "outputs": [],
   "source": []
  },
  {
   "cell_type": "code",
   "execution_count": 1169,
   "metadata": {},
   "outputs": [],
   "source": [
    "def updateANode (same , child):\n",
    "    if child.cost < same.cost:\n",
    "        same.cost = child.cost\n",
    "        same.parent = child.parent\n",
    "        same.calcHeuristic()\n",
    "        same.evaluation = same.cost + same.heuristic\n",
    "                "
   ]
  },
  {
   "cell_type": "code",
   "execution_count": 1170,
   "metadata": {},
   "outputs": [],
   "source": [
    "    \n",
    "def AStar2(MAP):\n",
    "    openList = []\n",
    "    closedList = []\n",
    "    initial = State(MAP.ziraj, MAP.students, MAP.order)\n",
    "    initial.calcCost()\n",
    "    initial.calcEvaluation()\n",
    "\n",
    "    openList.append(initial)\n",
    "    while openList:\n",
    "        current = chooseMinEvaluation(openList)\n",
    "        openList.remove(current)\n",
    "        \n",
    "        #print(current.ziraj , current.pickupPizza , NumDeli(current) , current.order)\n",
    "\n",
    "        if current.goalTest():\n",
    "            print(\"Num of visitd:\" , len(closedList))\n",
    "            return current.parent\n",
    "\n",
    "        addNeighborAStar(MAP, current , closedList)\n",
    "        for child in current.adjacent:\n",
    "            child.cost = current.cost +1 \n",
    "            \n",
    "            if child in openList:\n",
    "                same = openList[openList.index(child)]\n",
    "                \n",
    "                updateANode (same , child)\n",
    "                \n",
    "            elif child in closedList:\n",
    "                same = closedList[closedList.index(child)]\n",
    "                if child.cost < same.cost:\n",
    "                    \n",
    "                    updateANode (same , child)\n",
    "                    \n",
    "                    closedList.remove(same)\n",
    "                    if child.goalTest():\n",
    "                        print(\"Num of visitd:\" , len(closedList))\n",
    "                        return child.parent\n",
    "                    openList.append(same)\n",
    "            else:\n",
    "                child.cost = current.cost + 1\n",
    "                child.calcHeuristic()\n",
    "                child.evaluation = child.cost + child.heuristic\n",
    "                if child.goalTest():\n",
    "                    print(\"Num of visitd:\" , len(closedList))\n",
    "                    return child.parent\n",
    "                openList.append(child)\n",
    "\n",
    "        closedList.append(current)\n",
    "\n",
    "        \n",
    "        "
   ]
  },
  {
   "cell_type": "code",
   "execution_count": 1171,
   "metadata": {},
   "outputs": [],
   "source": [
    "nodes , edges , graph , laqs , ziraj , students , order = parseFile('./tests/Test1.txt')\n",
    "theMap = Graph(nodes , edges , graph , laqs , ziraj , students , order)"
   ]
  },
  {
   "cell_type": "code",
   "execution_count": 1172,
   "metadata": {},
   "outputs": [
    {
     "data": {
      "text/plain": [
       "{'4': ['1', '6', '10'],\n",
       " '1': ['4', '5', '3', '9', '7'],\n",
       " '5': ['9', '1', '10', '3'],\n",
       " '9': ['5', '8', '6', '10', '7', '1', '2'],\n",
       " '8': ['9', '3', '2'],\n",
       " '10': ['5', '6', '2', '9', '4'],\n",
       " '6': ['10', '4', '9', '2'],\n",
       " '2': ['10', '8', '6', '9'],\n",
       " '3': ['8', '5', '1'],\n",
       " '7': ['9', '1']}"
      ]
     },
     "execution_count": 1172,
     "metadata": {},
     "output_type": "execute_result"
    }
   ],
   "source": [
    "theMap.graph"
   ]
  },
  {
   "cell_type": "code",
   "execution_count": null,
   "metadata": {},
   "outputs": [],
   "source": []
  },
  {
   "cell_type": "code",
   "execution_count": 1173,
   "metadata": {},
   "outputs": [
    {
     "name": "stdout",
     "output_type": "stream",
     "text": [
      "Num of visitd: 205\n",
      "8 <= 3 <= 1 <= 9 <= 2 <= 9 <= 7 <= 9 <= 10 <= 4 <= 6 Compute time : 0.212502s\n",
      "Num of visitd: 205\n",
      "8 <= 3 <= 1 <= 9 <= 2 <= 9 <= 7 <= 9 <= 10 <= 4 <= 6 Compute time : 0.140326s\n",
      "Num of visitd: 205\n",
      "8 <= 3 <= 1 <= 9 <= 2 <= 9 <= 7 <= 9 <= 10 <= 4 <= 6 Compute time : 0.14101s\n"
     ]
    }
   ],
   "source": [
    "for i in range(0 , 3):\n",
    "    tic = time.time()\n",
    "    output = AStar2(theMap)\n",
    "    toc = time.time()\n",
    "    path = printPath(output)\n",
    "    print (f\" Compute time : {round((toc - tic), 6)}s\")\n"
   ]
  },
  {
   "cell_type": "code",
   "execution_count": 1131,
   "metadata": {},
   "outputs": [
    {
     "data": {
      "image/png": "[encoded data removed]",
      "text/plain": [
       "<Figure size 640x480 with 1 Axes>"
      ]
     },
     "metadata": {},
     "output_type": "display_data"
    }
   ],
   "source": [
    "drawGraph(theMap)"
   ]
  },
  {
   "cell_type": "markdown",
   "metadata": {},
   "source": [
    "<div class=\"container\">\n",
    "\t<table>\n",
    "\t\t<thead>\n",
    "\t\t\t<tr>\n",
    "\t\t\t\t<th>First Run</th>\n",
    "\t\t\t\t<th>Second Run</th>\n",
    "\t\t\t\t<th>Third Run</th>\n",
    "                <th>Average</th>\n",
    "\t\t\t</tr>\n",
    "\t\t</thead>\n",
    "\t\t<tbody>\n",
    "\t\t\t<tr>\n",
    "\t\t\t\t<td>0.190048s</td>\n",
    "\t\t\t\t<td>0.171252s</td>\n",
    "\t\t\t\t<td>0.214004s</td>\n",
    "                <td><b>0.20591667s</b></td>\n",
    "            </tr>\n",
    "\t\t</tbody>\n",
    "\t</table>\n",
    "</div>"
   ]
  },
  {
   "cell_type": "markdown",
   "metadata": {},
   "source": [
    "<b>---------------------------------------------------------------------------------------------------------------------------------------------------------------------------<b>"
   ]
  },
  {
   "cell_type": "code",
   "execution_count": 1132,
   "metadata": {},
   "outputs": [],
   "source": [
    "nodes , edges , graph , laqs , ziraj , students , order = parseFile('./tests/Test2.txt')\n",
    "theMap = Graph(nodes , edges , graph , laqs , ziraj , students , order)"
   ]
  },
  {
   "cell_type": "code",
   "execution_count": 1133,
   "metadata": {},
   "outputs": [
    {
     "data": {
      "text/plain": [
       "{'12': ['15', '3', '6', '13', '14', '7'],\n",
       " '15': ['12', '4'],\n",
       " '3': ['12', '8', '2', '9', '13', '5'],\n",
       " '11': ['8', '10', '14', '5'],\n",
       " '8': ['11', '3', '6', '14'],\n",
       " '6': ['12', '14', '8', '4'],\n",
       " '7': ['14', '2', '12', '4'],\n",
       " '14': ['7', '9', '11', '6', '8', '1', '12'],\n",
       " '10': ['11', '4'],\n",
       " '2': ['3', '5', '13', '7'],\n",
       " '5': ['2', '11', '3'],\n",
       " '9': ['14', '3', '4'],\n",
       " '4': ['15', '10', '9', '6', '7', '13'],\n",
       " '13': ['12', '2', '3', '4'],\n",
       " '1': ['14']}"
      ]
     },
     "execution_count": 1133,
     "metadata": {},
     "output_type": "execute_result"
    }
   ],
   "source": [
    "theMap.graph"
   ]
  },
  {
   "cell_type": "code",
   "execution_count": 1134,
   "metadata": {},
   "outputs": [
    {
     "name": "stdout",
     "output_type": "stream",
     "text": [
      "Num of visitd: 479\n",
      "4 <= 6 <= 8 <= 6 <= 12 <= 3 <= 13 <= 3 <= 8 <= 11 <= 14 <= 12 <= 14 <= 1 <= 14 <= 12 <= 15 <= 4 <= 9 <= 14\n",
      " Compute time : 0.621445s\n",
      "Num of visitd: 479\n",
      "4 <= 6 <= 8 <= 6 <= 12 <= 3 <= 13 <= 3 <= 8 <= 11 <= 14 <= 12 <= 14 <= 1 <= 14 <= 12 <= 15 <= 4 <= 9 <= 14\n",
      " Compute time : 0.593035s\n",
      "Num of visitd: 479\n",
      "4 <= 6 <= 8 <= 6 <= 12 <= 3 <= 13 <= 3 <= 8 <= 11 <= 14 <= 12 <= 14 <= 1 <= 14 <= 12 <= 15 <= 4 <= 9 <= 14\n",
      " Compute time : 0.564335s\n"
     ]
    }
   ],
   "source": [
    "for i in range(0 , 3):\n",
    "    tic = time.time()\n",
    "    output = AStar2(theMap)\n",
    "    toc = time.time()\n",
    "    path = printPath(output)\n",
    "    print (f\"\\n Compute time : {round((toc - tic), 6)}s\")\n"
   ]
  },
  {
   "cell_type": "code",
   "execution_count": 994,
   "metadata": {},
   "outputs": [
    {
     "data": {
      "image/png": "[encoded data removed]",
      "text/plain": [
       "<Figure size 640x480 with 1 Axes>"
      ]
     },
     "metadata": {},
     "output_type": "display_data"
    }
   ],
   "source": [
    "drawGraph(theMap)"
   ]
  },
  {
   "cell_type": "markdown",
   "metadata": {},
   "source": [
    "<div class=\"container\">\n",
    "\t<table>\n",
    "\t\t<thead>\n",
    "\t\t\t<tr>\n",
    "\t\t\t\t<th>First Run</th>\n",
    "\t\t\t\t<th>Second Run</th>\n",
    "\t\t\t\t<th>Third Run</th>\n",
    "                <th>Average</th>\n",
    "\t\t\t</tr>\n",
    "\t\t</thead>\n",
    "\t\t<tbody>\n",
    "\t\t\t<tr>\n",
    "\t\t\t\t<td>0.757736s</td>\n",
    "\t\t\t\t<td>0.573522s</td>\n",
    "\t\t\t\t<td>0.550923s</td>\n",
    "                <td><b>0.627393667s</b></td>\n",
    "            </tr>\n",
    "\t\t</tbody>\n",
    "\t</table>\n",
    "</div>"
   ]
  },
  {
   "cell_type": "markdown",
   "metadata": {},
   "source": [
    "<b>-----------------------------------------------------------------------------------------------------------------------------------------------------------------------------<b>"
   ]
  },
  {
   "cell_type": "code",
   "execution_count": 1177,
   "metadata": {},
   "outputs": [],
   "source": [
    "nodes , edges , graph , laqs , ziraj , students , order = parseFile('./newTests//Test3.txt')\n",
    "theMap = Graph(nodes , edges , graph , laqs , ziraj , students , order)"
   ]
  },
  {
   "cell_type": "code",
   "execution_count": 1178,
   "metadata": {},
   "outputs": [
    {
     "data": {
      "text/plain": [
       "{'5': ['10', '6', '1'],\n",
       " '10': ['5', '3', '7'],\n",
       " '4': ['8', '2', '15'],\n",
       " '8': ['4', '6', '3', '11'],\n",
       " '12': ['1', '7'],\n",
       " '1': ['12', '2', '3', '5'],\n",
       " '6': ['11', '5', '8', '14', '15'],\n",
       " '11': ['6', '8'],\n",
       " '2': ['1', '4', '14', '9'],\n",
       " '13': ['7'],\n",
       " '7': ['13', '12', '9', '10', '3'],\n",
       " '3': ['1', '8', '10', '7'],\n",
       " '9': ['14', '7', '2', '15'],\n",
       " '14': ['9', '2', '6'],\n",
       " '15': ['4', '6', '9']}"
      ]
     },
     "execution_count": 1178,
     "metadata": {},
     "output_type": "execute_result"
    }
   ],
   "source": [
    "theMap.graph"
   ]
  },
  {
   "cell_type": "code",
   "execution_count": 1179,
   "metadata": {},
   "outputs": [
    {
     "name": "stdout",
     "output_type": "stream",
     "text": [
      "Num of visitd: 464\n",
      "13 <= 7 <= 3 <= 1 <= 3 <= 8 <= 6 <= 14 <= 9 <= 2 <= 1 <= 5 <= 10 <= 7 <= 10 <= 5 <= 6 <= 11\n",
      " Compute time : 0.524507s\n",
      "Num of visitd: 464\n",
      "13 <= 7 <= 3 <= 1 <= 3 <= 8 <= 6 <= 14 <= 9 <= 2 <= 1 <= 5 <= 10 <= 7 <= 10 <= 5 <= 6 <= 11\n",
      " Compute time : 0.487977s\n"
     ]
    }
   ],
   "source": [
    "for i in range(0 , 2):\n",
    "    tic = time.time()\n",
    "    output = AStar2(theMap)\n",
    "    toc = time.time()\n",
    "    path = printPath(output)\n",
    "    print (f\"\\n Compute time : {round((toc - tic), 6)}s\")\n",
    "\n"
   ]
  },
  {
   "cell_type": "code",
   "execution_count": 1006,
   "metadata": {},
   "outputs": [
    {
     "data": {
      "image/png": "[encoded data removed]",
      "text/plain": [
       "<Figure size 640x480 with 1 Axes>"
      ]
     },
     "metadata": {},
     "output_type": "display_data"
    }
   ],
   "source": [
    "drawGraph(theMap)"
   ]
  },
  {
   "cell_type": "markdown",
   "metadata": {},
   "source": [
    "<b>---------------------------------------------------------------------------------------------------------------------------------------------------------------------------</b>"
   ]
  },
  {
   "cell_type": "markdown",
   "metadata": {},
   "source": [
    "<h1 style=\"color:#C20A3E;\">Weighted A* with alpha = 1.5</h1>"
   ]
  },
  {
   "cell_type": "code",
   "execution_count": 1059,
   "metadata": {},
   "outputs": [],
   "source": [
    "alpha = 1.5\n",
    "def updateANodeW (same , child , alpha):\n",
    "    if child.cost < same.cost:\n",
    "        same.cost = child.cost\n",
    "        same.parent = child.parent\n",
    "        same.calcHeuristicWeighted(alpha)\n",
    "        same.evaluation = same.cost + same.heuristic\n",
    "                "
   ]
  },
  {
   "cell_type": "code",
   "execution_count": 1150,
   "metadata": {},
   "outputs": [],
   "source": [
    " \n",
    "def WeightedAStar2(MAP , alpha):\n",
    "    openList = []\n",
    "    closedList = []\n",
    "    initial = State(MAP.ziraj, MAP.students, MAP.order)\n",
    "    initial.calcCost()\n",
    "    initial.calcEvaluation()\n",
    "\n",
    "    openList.append(initial)\n",
    "    while openList:\n",
    "        current = chooseMinEvaluation(openList)\n",
    "        openList.remove(current)\n",
    "        \n",
    "        #print(current.ziraj , current.pickupPizza , NumDeli(current) , current.order)\n",
    "\n",
    "        if current.goalTest():\n",
    "            print('num of visited' , len(closedList))\n",
    "            return current.parent\n",
    "\n",
    "        addNeighbor(MAP, current , closedList)\n",
    "        for child in current.adjacent:\n",
    "            child.cost = current.cost +1 \n",
    "            \n",
    "            if child in openList:\n",
    "                same = openList[openList.index(child)]\n",
    "                \n",
    "                updateANodeW (same , child , alpha)\n",
    "                \n",
    "            elif child in closedList:\n",
    "                same = closedList[closedList.index(child)]\n",
    "                if child.cost < same.cost:\n",
    "                    \n",
    "                    updateANodeW (same , child , alpha)\n",
    "                    \n",
    "                    closedList.remove(same)\n",
    "                    if child.goalTest():\n",
    "                        print('num of visited' , len(closedList))\n",
    "                        return child.parent\n",
    "                    openList.append(same)\n",
    "            else:\n",
    "                child.cost = current.cost + 1\n",
    "                child.calcHeuristicWeighted(alpha)\n",
    "                child.evaluation = child.cost + child.heuristic*10\n",
    "                if child.goalTest():\n",
    "                    print('num of visited' , len(closedList))\n",
    "                    return child.parent\n",
    "                openList.append(child)\n",
    "\n",
    "        closedList.append(current)\n",
    "\n",
    "        \n",
    "        "
   ]
  },
  {
   "cell_type": "code",
   "execution_count": 1151,
   "metadata": {},
   "outputs": [],
   "source": [
    "nodes , edges , graph , laqs , ziraj , students , order = parseFile('./tests/Test1.txt')\n",
    "theMap = Graph(nodes , edges , graph , laqs , ziraj , students , order)"
   ]
  },
  {
   "cell_type": "code",
   "execution_count": 1152,
   "metadata": {},
   "outputs": [
    {
     "name": "stdout",
     "output_type": "stream",
     "text": [
      "num of visited 209\n",
      "8 <= 3 <= 1 <= 9 <= 2 <= 9 <= 7 <= 9 <= 10 <= 4 <= 6 Compute time : 0.201427s\n",
      "num of visited 209\n",
      "8 <= 3 <= 1 <= 9 <= 2 <= 9 <= 7 <= 9 <= 10 <= 4 <= 6 Compute time : 0.166489s\n",
      "num of visited 209\n",
      "8 <= 3 <= 1 <= 9 <= 2 <= 9 <= 7 <= 9 <= 10 <= 4 <= 6 Compute time : 0.150201s\n"
     ]
    }
   ],
   "source": [
    "for i in range(0 , 3):\n",
    "    tic = time.time()\n",
    "    output = WeightedAStar2(theMap , alpha)\n",
    "    toc = time.time()\n",
    "    path = printPath(output)\n",
    "    print (f\" Compute time : {round((toc - tic), 6)}s\")\n"
   ]
  },
  {
   "cell_type": "markdown",
   "metadata": {},
   "source": [
    "<div class=\"container\">\n",
    "\t<table>\n",
    "\t\t<thead>\n",
    "\t\t\t<tr>\n",
    "\t\t\t\t<th>First Run</th>\n",
    "\t\t\t\t<th>Second Run</th>\n",
    "\t\t\t\t<th>Third Run</th>\n",
    "                <th>Average</th>\n",
    "\t\t\t</tr>\n",
    "\t\t</thead>\n",
    "\t\t<tbody>\n",
    "\t\t\t<tr>\n",
    "\t\t\t\t<td>0.215198s</td>\n",
    "\t\t\t\t<td>0.177453s</td>\n",
    "\t\t\t\t<td>0.175692s</td>\n",
    "                <td><b>0.183591667s</b></td>\n",
    "            </tr>\n",
    "\t\t</tbody>\n",
    "\t</table>\n",
    "</div>"
   ]
  },
  {
   "cell_type": "markdown",
   "metadata": {},
   "source": [
    "<b>-----------------------------------------------------------------------------------------------------------------------------------------------------------------------------</b>"
   ]
  },
  {
   "cell_type": "code",
   "execution_count": 1153,
   "metadata": {},
   "outputs": [],
   "source": [
    "\n",
    "nodes , edges , graph , laqs , ziraj , students , order = parseFile('./tests/Test2.txt')\n",
    "theMap = Graph(nodes , edges , graph , laqs , ziraj , students , order)"
   ]
  },
  {
   "cell_type": "code",
   "execution_count": 1154,
   "metadata": {},
   "outputs": [
    {
     "name": "stdout",
     "output_type": "stream",
     "text": [
      "num of visited 479\n",
      "4 <= 6 <= 8 <= 6 <= 12 <= 3 <= 13 <= 3 <= 8 <= 11 <= 14 <= 12 <= 14 <= 1 <= 14 <= 12 <= 15 <= 4 <= 9 <= 14\n",
      " Compute time : 0.585881s\n",
      "num of visited 479\n",
      "4 <= 6 <= 8 <= 6 <= 12 <= 3 <= 13 <= 3 <= 8 <= 11 <= 14 <= 12 <= 14 <= 1 <= 14 <= 12 <= 15 <= 4 <= 9 <= 14\n",
      " Compute time : 0.530916s\n",
      "num of visited 479\n",
      "4 <= 6 <= 8 <= 6 <= 12 <= 3 <= 13 <= 3 <= 8 <= 11 <= 14 <= 12 <= 14 <= 1 <= 14 <= 12 <= 15 <= 4 <= 9 <= 14\n",
      " Compute time : 0.547643s\n"
     ]
    }
   ],
   "source": [
    "for i in range(0 , 3):\n",
    "    tic = time.time()\n",
    "    output = WeightedAStar2(theMap , alpha)\n",
    "    toc = time.time()\n",
    "    path = printPath(output)\n",
    "    print (f\"\\n Compute time : {round((toc - tic), 6)}s\")\n"
   ]
  },
  {
   "cell_type": "markdown",
   "metadata": {},
   "source": [
    "<div class=\"container\">\n",
    "\t<table>\n",
    "\t\t<thead>\n",
    "\t\t\t<tr>\n",
    "\t\t\t\t<th>First Run</th>\n",
    "\t\t\t\t<th>Second Run</th>\n",
    "\t\t\t\t<th>Third Run</th>\n",
    "                <th>Average</th>\n",
    "\t\t\t</tr>\n",
    "\t\t</thead>\n",
    "\t\t<tbody>\n",
    "\t\t\t<tr>\n",
    "\t\t\t\t<td>0.567452s</td>\n",
    "\t\t\t\t<td>0.594811s</td>\n",
    "\t\t\t\t<td>0.575112s</td>\n",
    "                <td><b>0.573591667s</b></td>\n",
    "            </tr>\n",
    "\t\t</tbody>\n",
    "\t</table>\n",
    "</div>"
   ]
  },
  {
   "cell_type": "markdown",
   "metadata": {},
   "source": [
    "<b>------------------------------------------------------------------------------------------------------------------------------------------------------</b>"
   ]
  },
  {
   "cell_type": "code",
   "execution_count": 1176,
   "metadata": {},
   "outputs": [
    {
     "name": "stdout",
     "output_type": "stream",
     "text": [
      "num of visited 457\n",
      "13 <= 7 <= 3 <= 1 <= 3 <= 8 <= 6 <= 14 <= 9 <= 2 <= 1 <= 5 <= 10 <= 7 <= 10 <= 5 <= 6 <= 11\n",
      " Compute time : 0.458361s\n",
      "num of visited 457\n",
      "13 <= 7 <= 3 <= 1 <= 3 <= 8 <= 6 <= 14 <= 9 <= 2 <= 1 <= 5 <= 10 <= 7 <= 10 <= 5 <= 6 <= 11\n",
      " Compute time : 0.45201s\n",
      "num of visited 457\n",
      "13 <= 7 <= 3 <= 1 <= 3 <= 8 <= 6 <= 14 <= 9 <= 2 <= 1 <= 5 <= 10 <= 7 <= 10 <= 5 <= 6 <= 11\n",
      " Compute time : 0.503874s\n"
     ]
    }
   ],
   "source": [
    "nodes , edges , graph , laqs , ziraj , students , order = parseFile('./newTests/Test3.txt')\n",
    "theMap = Graph(nodes , edges , graph , laqs , ziraj , students , order)\n",
    "for i in range(0 , 3):\n",
    "    tic = time.time()\n",
    "    output = WeightedAStar2(theMap , alpha)\n",
    "    toc = time.time()\n",
    "    path = printPath(output)\n",
    "    print (f\"\\n Compute time : {round((toc - tic), 6)}s\")\n"
   ]
  },
  {
   "cell_type": "markdown",
   "metadata": {},
   "source": [
    "<h1 style=\"color:#C20A3E;\">Weighted A* with alpha = 5</h1>"
   ]
  },
  {
   "cell_type": "code",
   "execution_count": null,
   "metadata": {},
   "outputs": [],
   "source": [
    "alpha2 = 5\n",
    "nodes , edges , graph , laqs , ziraj , students , order = parseFile('./tests/Test1.txt')\n",
    "theMap = Graph(nodes , edges , graph , laqs , ziraj , students , order)\n",
    "\n",
    "for i in range(0 , 3):\n",
    "    tic = time.time()\n",
    "    output = WeightedAStar2(theMap , alpha2)\n",
    "    toc = time.time()\n",
    "    path = printPath(output)\n",
    "    print (f\" Compute time : {round((toc - tic), 6)}s\")\n"
   ]
  },
  {
   "cell_type": "code",
   "execution_count": 1145,
   "metadata": {},
   "outputs": [
    {
     "name": "stdout",
     "output_type": "stream",
     "text": [
      "num of visited 479\n",
      "4 <= 6 <= 8 <= 6 <= 12 <= 3 <= 13 <= 3 <= 8 <= 11 <= 14 <= 12 <= 14 <= 1 <= 14 <= 12 <= 15 <= 4 <= 9 <= 14 Compute time : 0.821247s\n",
      "num of visited 479\n",
      "4 <= 6 <= 8 <= 6 <= 12 <= 3 <= 13 <= 3 <= 8 <= 11 <= 14 <= 12 <= 14 <= 1 <= 14 <= 12 <= 15 <= 4 <= 9 <= 14 Compute time : 0.742295s\n",
      "num of visited 479\n",
      "4 <= 6 <= 8 <= 6 <= 12 <= 3 <= 13 <= 3 <= 8 <= 11 <= 14 <= 12 <= 14 <= 1 <= 14 <= 12 <= 15 <= 4 <= 9 <= 14 Compute time : 0.618761s\n"
     ]
    }
   ],
   "source": [
    "alpha2 = 5\n",
    "nodes , edges , graph , laqs , ziraj , students , order = parseFile('./tests/Test2.txt')\n",
    "theMap = Graph(nodes , edges , graph , laqs , ziraj , students , order)\n",
    "\n",
    "for i in range(0 , 3):\n",
    "    tic = time.time()\n",
    "    output = WeightedAStar2(theMap , alpha2)\n",
    "    toc = time.time()\n",
    "    path = printPath(output)\n",
    "    print (f\" Compute time : {round((toc - tic), 6)}s\")\n"
   ]
  },
  {
   "cell_type": "code",
   "execution_count": 1174,
   "metadata": {},
   "outputs": [
    {
     "name": "stdout",
     "output_type": "stream",
     "text": [
      "num of visited 457\n",
      "13 <= 7 <= 3 <= 1 <= 3 <= 8 <= 6 <= 14 <= 9 <= 2 <= 1 <= 5 <= 10 <= 7 <= 10 <= 5 <= 6 <= 11 Compute time : 0.450746s\n",
      "num of visited 457\n",
      "13 <= 7 <= 3 <= 1 <= 3 <= 8 <= 6 <= 14 <= 9 <= 2 <= 1 <= 5 <= 10 <= 7 <= 10 <= 5 <= 6 <= 11 Compute time : 0.446308s\n",
      "num of visited 457\n",
      "13 <= 7 <= 3 <= 1 <= 3 <= 8 <= 6 <= 14 <= 9 <= 2 <= 1 <= 5 <= 10 <= 7 <= 10 <= 5 <= 6 <= 11 Compute time : 0.473002s\n"
     ]
    }
   ],
   "source": [
    "alpha2 = 5\n",
    "nodes , edges , graph , laqs , ziraj , students , order = parseFile('./newTests/Test3.txt')\n",
    "theMap = Graph(nodes , edges , graph , laqs , ziraj , students , order)\n",
    "\n",
    "for i in range(0 , 3):\n",
    "    tic = time.time()\n",
    "    output = WeightedAStar2(theMap , alpha2)\n",
    "    toc = time.time()\n",
    "    path = printPath(output)\n",
    "    print (f\" Compute time : {round((toc - tic), 6)}s\")\n"
   ]
  },
  {
   "cell_type": "code",
   "execution_count": null,
   "metadata": {},
   "outputs": [],
   "source": []
  },
  {
   "cell_type": "code",
   "execution_count": null,
   "metadata": {},
   "outputs": [],
   "source": []
  },
  {
   "cell_type": "code",
   "execution_count": null,
   "metadata": {},
   "outputs": [],
   "source": []
  },
  {
   "cell_type": "code",
   "execution_count": null,
   "metadata": {},
   "outputs": [],
   "source": []
  },
  {
   "cell_type": "code",
   "execution_count": null,
   "metadata": {},
   "outputs": [],
   "source": []
  },
  {
   "cell_type": "code",
   "execution_count": null,
   "metadata": {},
   "outputs": [],
   "source": []
  },
  {
   "cell_type": "markdown",
   "metadata": {},
   "source": [
    "<h1 style=\"color:#C20A3E;\">Conclusions : </h1>\n",
    "<h3 style=\"color:#FFC300;\">BFS & IDS & A* are optimal but in some weighted , the weigthed A* is not optimal but its much more faster than any other solution. </h3>"
   ]
  },
  {
   "cell_type": "code",
   "execution_count": null,
   "metadata": {},
   "outputs": [],
   "source": []
  },
  {
   "cell_type": "code",
   "execution_count": null,
   "metadata": {},
   "outputs": [],
   "source": []
  },
  {
   "cell_type": "code",
   "execution_count": null,
   "metadata": {},
   "outputs": [],
   "source": []
  },
  {
   "cell_type": "code",
   "execution_count": null,
   "metadata": {},
   "outputs": [],
   "source": []
  },
  {
   "cell_type": "code",
   "execution_count": null,
   "metadata": {},
   "outputs": [],
   "source": []
  },
  {
   "cell_type": "code",
   "execution_count": null,
   "metadata": {},
   "outputs": [],
   "source": []
  },
  {
   "cell_type": "markdown",
   "metadata": {},
   "source": [
    "<h3>Test 1</h3>\n",
    "<div class=\"container\">\n",
    "\t<table>\n",
    "\t\t<thead>\n",
    "\t\t\t<tr>\n",
    "                <th>Algorithm</th>\n",
    "\t\t\t\t<th>States</th>\n",
    "\t\t\t\t<th>Visited</th>\n",
    "\t\t\t\t<th>Time Average</th>\n",
    "\t\t\t</tr>\n",
    "\t\t</thead>\n",
    "\t\t<tbody>\n",
    "\t\t\t<tr>\n",
    "                <td>BFS</td>\n",
    "\t\t\t\t<td>11</td>\n",
    "\t\t\t\t<td>238</td>\n",
    "\t\t\t\t<td>0.097105s</td>\n",
    "            </tr>\n",
    "            <tr>\n",
    "                <td>IDS</td>\n",
    "\t\t\t\t<td>11</td>\n",
    "\t\t\t\t<td>1304</td>\n",
    "\t\t\t\t<td>5.7105s</td>\n",
    "            </tr>\n",
    "            <tr>\n",
    "                <td>A*</td>\n",
    "\t\t\t\t<td>11</td>\n",
    "\t\t\t\t<td>205</td>\n",
    "\t\t\t\t<td>0.14048s</td>\n",
    "            </tr>\n",
    "            <tr>\n",
    "                <td>Weighted A*</td>\n",
    "\t\t\t\t<td>11</td>\n",
    "\t\t\t\t<td>129</td>\n",
    "\t\t\t\t<td>0.15434s</td>\n",
    "            </tr>\n",
    "            <tr>\n",
    "                <td>Weighted A*</td>\n",
    "\t\t\t\t<td>15</td>\n",
    "\t\t\t\t<td>84</td>\n",
    "\t\t\t\t<td>0.11148s</td>\n",
    "            </tr>\n",
    "\t\t</tbody>\n",
    "\t</table>\n",
    "</div>"
   ]
  },
  {
   "cell_type": "code",
   "execution_count": null,
   "metadata": {},
   "outputs": [],
   "source": []
  },
  {
   "cell_type": "markdown",
   "metadata": {},
   "source": [
    "<h3>Test 2</h3>\n",
    "<div class=\"container\">\n",
    "\t<table>\n",
    "\t\t<thead>\n",
    "\t\t\t<tr>\n",
    "                <th>Algorithm</th>\n",
    "\t\t\t\t<th>States</th>\n",
    "\t\t\t\t<th>Visited</th>\n",
    "\t\t\t\t<th>Time Average</th>\n",
    "\t\t\t</tr>\n",
    "\t\t</thead>\n",
    "\t\t<tbody>\n",
    "\t\t\t<tr>\n",
    "                <td>BFS</td>\n",
    "\t\t\t\t<td>20</td>\n",
    "\t\t\t\t<td>498</td>\n",
    "\t\t\t\t<td>0.243018s</td>\n",
    "            </tr>\n",
    "            <tr>\n",
    "                <td>IDS</td>\n",
    "\t\t\t\t<td>-</td>\n",
    "\t\t\t\t<td>-</td>\n",
    "\t\t\t\t<td>-</td>\n",
    "            </tr>\n",
    "            <tr>\n",
    "                <td>A*</td>\n",
    "\t\t\t\t<td>20</td>\n",
    "\t\t\t\t<td>479</td>\n",
    "\t\t\t\t<td>0.56239s</td>\n",
    "            </tr>\n",
    "            <tr>\n",
    "                <td>Weighted A*</td>\n",
    "\t\t\t\t<td>22</td>\n",
    "\t\t\t\t<td>439</td>\n",
    "\t\t\t\t<td>0.369165s</td>\n",
    "            </tr>\n",
    "            <tr>\n",
    "                <td>Weighted A*</td>\n",
    "\t\t\t\t<td>26</td>\n",
    "\t\t\t\t<td>402</td>\n",
    "\t\t\t\t<td>0.221247s</td>\n",
    "            </tr>\n",
    "\t\t</tbody>\n",
    "\t</table>\n",
    "</div>"
   ]
  },
  {
   "cell_type": "code",
   "execution_count": null,
   "metadata": {},
   "outputs": [],
   "source": []
  },
  {
   "cell_type": "markdown",
   "metadata": {},
   "source": [
    "<h3>Test 3</h3>\n",
    "<div class=\"container\">\n",
    "\t<table>\n",
    "\t\t<thead>\n",
    "\t\t\t<tr>\n",
    "                <th>Algorithm</th>\n",
    "\t\t\t\t<th>States</th>\n",
    "\t\t\t\t<th>Visited</th>\n",
    "\t\t\t\t<th>Time Average</th>\n",
    "\t\t\t</tr>\n",
    "\t\t</thead>\n",
    "\t\t<tbody>\n",
    "\t\t\t<tr>\n",
    "                <td>BFS</td>\n",
    "\t\t\t\t<td>32</td>\n",
    "\t\t\t\t<td>10157</td>\n",
    "\t\t\t\t<td>8.05299s</td>\n",
    "            </tr>\n",
    "            <tr>\n",
    "                <td>IDS</td>\n",
    "\t\t\t\t<td>-</td>\n",
    "\t\t\t\t<td>-</td>\n",
    "\t\t\t\t<td>-</td>\n",
    "            </tr>\n",
    "            <tr>\n",
    "                <td>A*</td>\n",
    "\t\t\t\t<td>32</td>\n",
    "\t\t\t\t<td>464</td>\n",
    "\t\t\t\t<td>0.56239s</td>\n",
    "            </tr>\n",
    "            <tr>\n",
    "                <td>Weighted A*</td>\n",
    "\t\t\t\t<td>34</td>\n",
    "\t\t\t\t<td>429</td>\n",
    "\t\t\t\t<td>0.503874s</td>\n",
    "            </tr>\n",
    "            <tr>\n",
    "                <td>Weighted A*</td>\n",
    "\t\t\t\t<td>39</td>\n",
    "\t\t\t\t<td>302</td>\n",
    "\t\t\t\t<td>0.446308s</td>\n",
    "            </tr>\n",
    "\t\t</tbody>\n",
    "\t</table>\n",
    "</div>"
   ]
  },
  {
   "cell_type": "code",
   "execution_count": null,
   "metadata": {},
   "outputs": [],
   "source": []
  },
  {
   "cell_type": "code",
   "execution_count": null,
   "metadata": {},
   "outputs": [],
   "source": []
  },
  {
   "cell_type": "markdown",
   "metadata": {},
   "source": [
    "<h1 style=\"color:#C20A3E;\">Referencces :</h1>\n",
    "<h3 style=\"color:#FFC300;\">--geeksforgeeks </h3>\n",
    "<h3 style=\"color:#FFC300;\">--Russell' book AI a Moderm Approach </h3>"
   ]
  },
  {
   "cell_type": "code",
   "execution_count": null,
   "metadata": {},
   "outputs": [],
   "source": []
  }
 ],
 "metadata": {
  "kernelspec": {
   "display_name": "Python 3 (ipykernel)",
   "language": "python",
   "name": "python3"
  },
  "language_info": {
   "codemirror_mode": {
    "name": "ipython",
    "version": 3
   },
   "file_extension": ".py",
   "mimetype": "text/x-python",
   "name": "python",
   "nbconvert_exporter": "python",
   "pygments_lexer": "ipython3",
   "version": "3.9.8"
  }
 },
 "nbformat": 4,
 "nbformat_minor": 2
}
